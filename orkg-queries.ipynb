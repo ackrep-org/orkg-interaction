{
 "cells": [
  {
   "cell_type": "code",
   "execution_count": 3,
   "metadata": {},
   "outputs": [
    {
     "name": "stdout",
     "output_type": "stream",
     "text": [
      "687674\n"
     ]
    }
   ],
   "source": [
    "with open(\"dump.nt\") as thefile:\n",
    "    lines = thefile.readlines()\n",
    "    \n",
    "print(len(lines))\n",
    "new_lines = []\n",
    "for l in lines:\n",
    "    if \"<null>\" in l:\n",
    "        continue\n",
    "    new_lines.append(l)"
   ]
  },
  {
   "cell_type": "code",
   "execution_count": 5,
   "metadata": {},
   "outputs": [],
   "source": [
    "with open(\"dump2.nt\", \"w\") as thefile:\n",
    "    thefile.writelines(new_lines)"
   ]
  },
  {
   "cell_type": "code",
   "execution_count": 6,
   "metadata": {},
   "outputs": [
    {
     "data": {
      "text/plain": [
       "<Graph identifier=Ndc76ca855d4b4da19b000e90f4d151f8 (<class 'rdflib.graph.Graph'>)>"
      ]
     },
     "execution_count": 6,
     "metadata": {},
     "output_type": "execute_result"
    }
   ],
   "source": [
    "from rdflib import Graph\n",
    "\n",
    "# takes about 120s\n",
    "g = Graph()\n",
    "g.parse(\"dump2.nt\")"
   ]
  },
  {
   "cell_type": "code",
   "execution_count": 7,
   "metadata": {},
   "outputs": [],
   "source": [
    "q = \"\"\"\n",
    "\n",
    "\n",
    "\n",
    "\n",
    "PREFIX orkgr: <http://orkg.org/orkg/resource/>\n",
    "PREFIX orkgc: <http://orkg.org/orkg/class/>\n",
    "PREFIX orkgp: <http://orkg.org/orkg/predicate/>\n",
    "PREFIX rdfs: <http://www.w3.org/2000/01/rdf-schema#>\n",
    "PREFIX xsd: <http://www.w3.org/2001/XMLSchema#>\n",
    "PREFIX rdf: <http://www.w3.org/1999/02/22-rdf-syntax-ns#>\n",
    "\n",
    "\n",
    "\n",
    "# select distinct ?subject ?predicate ?object where {?subject ?predicate ?object} LIMIT 100\n",
    "\n",
    "select ?paper ?title ?propLabel ?objectLabel where\n",
    "  {\n",
    "    ?paper orkgp:P30 orkgr:R109;\n",
    "          rdfs:label ?title;\n",
    "          orkgp:P31 ?contribution.\n",
    "   ?contribution ?prop ?object.\n",
    "   ?prop rdfs:label ?propLabel.\n",
    "\n",
    "}\n",
    "\n",
    "LIMIT 1000\n",
    "\n",
    "\n",
    "\"\"\"\n",
    "\n",
    "\n",
    "res = g.query(q)"
   ]
  },
  {
   "cell_type": "code",
   "execution_count": 9,
   "metadata": {},
   "outputs": [
    {
     "data": {
      "text/plain": [
       "[(rdflib.term.URIRef('http://orkg.org/orkg/resource/R164081'),\n",
       "  rdflib.term.Literal('Predictive Path Following of Mobile Robots without Terminal Stabilizing Constraints', datatype=rdflib.term.URIRef('http://www.w3.org/2001/XMLSchema#string')),\n",
       "  rdflib.term.Literal('Method', datatype=rdflib.term.URIRef('http://www.w3.org/2001/XMLSchema#string')),\n",
       "  None),\n",
       " (rdflib.term.URIRef('http://orkg.org/orkg/resource/R164081'),\n",
       "  rdflib.term.Literal('Predictive Path Following of Mobile Robots without Terminal Stabilizing Constraints', datatype=rdflib.term.URIRef('http://www.w3.org/2001/XMLSchema#string')),\n",
       "  rdflib.term.Literal('Method', datatype=rdflib.term.URIRef('http://www.w3.org/2001/XMLSchema#string')),\n",
       "  None),\n",
       " (rdflib.term.URIRef('http://orkg.org/orkg/resource/R164081'),\n",
       "  rdflib.term.Literal('Predictive Path Following of Mobile Robots without Terminal Stabilizing Constraints', datatype=rdflib.term.URIRef('http://www.w3.org/2001/XMLSchema#string')),\n",
       "  rdflib.term.Literal('Result', datatype=rdflib.term.URIRef('http://www.w3.org/2001/XMLSchema#string')),\n",
       "  None),\n",
       " (rdflib.term.URIRef('http://orkg.org/orkg/resource/R164081'),\n",
       "  rdflib.term.Literal('Predictive Path Following of Mobile Robots without Terminal Stabilizing Constraints', datatype=rdflib.term.URIRef('http://www.w3.org/2001/XMLSchema#string')),\n",
       "  rdflib.term.Literal('has research problem', datatype=rdflib.term.URIRef('http://www.w3.org/2001/XMLSchema#string')),\n",
       "  None),\n",
       " (rdflib.term.URIRef('http://orkg.org/orkg/resource/R164081'),\n",
       "  rdflib.term.Literal('Predictive Path Following of Mobile Robots without Terminal Stabilizing Constraints', datatype=rdflib.term.URIRef('http://www.w3.org/2001/XMLSchema#string')),\n",
       "  rdflib.term.Literal('has research problem', datatype=rdflib.term.URIRef('http://www.w3.org/2001/XMLSchema#string')),\n",
       "  None),\n",
       " (rdflib.term.URIRef('http://orkg.org/orkg/resource/R164070'),\n",
       "  rdflib.term.Literal('On necessary and sufficient conditions for differential flatness', datatype=rdflib.term.URIRef('http://www.w3.org/2001/XMLSchema#string')),\n",
       "  rdflib.term.Literal('Method', datatype=rdflib.term.URIRef('http://www.w3.org/2001/XMLSchema#string')),\n",
       "  None),\n",
       " (rdflib.term.URIRef('http://orkg.org/orkg/resource/R164070'),\n",
       "  rdflib.term.Literal('On necessary and sufficient conditions for differential flatness', datatype=rdflib.term.URIRef('http://www.w3.org/2001/XMLSchema#string')),\n",
       "  rdflib.term.Literal('Method', datatype=rdflib.term.URIRef('http://www.w3.org/2001/XMLSchema#string')),\n",
       "  None),\n",
       " (rdflib.term.URIRef('http://orkg.org/orkg/resource/R164070'),\n",
       "  rdflib.term.Literal('On necessary and sufficient conditions for differential flatness', datatype=rdflib.term.URIRef('http://www.w3.org/2001/XMLSchema#string')),\n",
       "  rdflib.term.Literal('Method', datatype=rdflib.term.URIRef('http://www.w3.org/2001/XMLSchema#string')),\n",
       "  None),\n",
       " (rdflib.term.URIRef('http://orkg.org/orkg/resource/R164070'),\n",
       "  rdflib.term.Literal('On necessary and sufficient conditions for differential flatness', datatype=rdflib.term.URIRef('http://www.w3.org/2001/XMLSchema#string')),\n",
       "  rdflib.term.Literal('Method', datatype=rdflib.term.URIRef('http://www.w3.org/2001/XMLSchema#string')),\n",
       "  None),\n",
       " (rdflib.term.URIRef('http://orkg.org/orkg/resource/R164070'),\n",
       "  rdflib.term.Literal('On necessary and sufficient conditions for differential flatness', datatype=rdflib.term.URIRef('http://www.w3.org/2001/XMLSchema#string')),\n",
       "  rdflib.term.Literal('Method', datatype=rdflib.term.URIRef('http://www.w3.org/2001/XMLSchema#string')),\n",
       "  None),\n",
       " (rdflib.term.URIRef('http://orkg.org/orkg/resource/R164070'),\n",
       "  rdflib.term.Literal('On necessary and sufficient conditions for differential flatness', datatype=rdflib.term.URIRef('http://www.w3.org/2001/XMLSchema#string')),\n",
       "  rdflib.term.Literal('Method', datatype=rdflib.term.URIRef('http://www.w3.org/2001/XMLSchema#string')),\n",
       "  None),\n",
       " (rdflib.term.URIRef('http://orkg.org/orkg/resource/R164070'),\n",
       "  rdflib.term.Literal('On necessary and sufficient conditions for differential flatness', datatype=rdflib.term.URIRef('http://www.w3.org/2001/XMLSchema#string')),\n",
       "  rdflib.term.Literal('Result', datatype=rdflib.term.URIRef('http://www.w3.org/2001/XMLSchema#string')),\n",
       "  None),\n",
       " (rdflib.term.URIRef('http://orkg.org/orkg/resource/R164070'),\n",
       "  rdflib.term.Literal('On necessary and sufficient conditions for differential flatness', datatype=rdflib.term.URIRef('http://www.w3.org/2001/XMLSchema#string')),\n",
       "  rdflib.term.Literal('has research problem', datatype=rdflib.term.URIRef('http://www.w3.org/2001/XMLSchema#string')),\n",
       "  None),\n",
       " (rdflib.term.URIRef('http://orkg.org/orkg/resource/R164065'),\n",
       "  rdflib.term.Literal('Swing-up of the double pendulum on a cart by feedforward and feedback control with experimental validation', datatype=rdflib.term.URIRef('http://www.w3.org/2001/XMLSchema#string')),\n",
       "  rdflib.term.Literal('Method', datatype=rdflib.term.URIRef('http://www.w3.org/2001/XMLSchema#string')),\n",
       "  None),\n",
       " (rdflib.term.URIRef('http://orkg.org/orkg/resource/R164065'),\n",
       "  rdflib.term.Literal('Swing-up of the double pendulum on a cart by feedforward and feedback control with experimental validation', datatype=rdflib.term.URIRef('http://www.w3.org/2001/XMLSchema#string')),\n",
       "  rdflib.term.Literal('Result', datatype=rdflib.term.URIRef('http://www.w3.org/2001/XMLSchema#string')),\n",
       "  None),\n",
       " (rdflib.term.URIRef('http://orkg.org/orkg/resource/R164065'),\n",
       "  rdflib.term.Literal('Swing-up of the double pendulum on a cart by feedforward and feedback control with experimental validation', datatype=rdflib.term.URIRef('http://www.w3.org/2001/XMLSchema#string')),\n",
       "  rdflib.term.Literal('has research problem', datatype=rdflib.term.URIRef('http://www.w3.org/2001/XMLSchema#string')),\n",
       "  None),\n",
       " (rdflib.term.URIRef('http://orkg.org/orkg/resource/R164065'),\n",
       "  rdflib.term.Literal('Swing-up of the double pendulum on a cart by feedforward and feedback control with experimental validation', datatype=rdflib.term.URIRef('http://www.w3.org/2001/XMLSchema#string')),\n",
       "  rdflib.term.Literal('Has example', datatype=rdflib.term.URIRef('http://www.w3.org/2001/XMLSchema#string')),\n",
       "  None),\n",
       " (rdflib.term.URIRef('http://orkg.org/orkg/resource/R164065'),\n",
       "  rdflib.term.Literal('Swing-up of the double pendulum on a cart by feedforward and feedback control with experimental validation', datatype=rdflib.term.URIRef('http://www.w3.org/2001/XMLSchema#string')),\n",
       "  rdflib.term.Literal('Has simulation results', datatype=rdflib.term.URIRef('http://www.w3.org/2001/XMLSchema#string')),\n",
       "  None),\n",
       " (rdflib.term.URIRef('http://orkg.org/orkg/resource/R164065'),\n",
       "  rdflib.term.Literal('Swing-up of the double pendulum on a cart by feedforward and feedback control with experimental validation', datatype=rdflib.term.URIRef('http://www.w3.org/2001/XMLSchema#string')),\n",
       "  rdflib.term.Literal('has experimental results', datatype=rdflib.term.URIRef('http://www.w3.org/2001/XMLSchema#string')),\n",
       "  None),\n",
       " (rdflib.term.URIRef('http://orkg.org/orkg/resource/R163738'),\n",
       "  rdflib.term.Literal('Reinforcement Learning and Trajectory Planning based on Model Approximation with Neural Networks applied to Transition Problems', datatype=rdflib.term.URIRef('http://www.w3.org/2001/XMLSchema#string')),\n",
       "  rdflib.term.Literal('Method', datatype=rdflib.term.URIRef('http://www.w3.org/2001/XMLSchema#string')),\n",
       "  None),\n",
       " (rdflib.term.URIRef('http://orkg.org/orkg/resource/R163738'),\n",
       "  rdflib.term.Literal('Reinforcement Learning and Trajectory Planning based on Model Approximation with Neural Networks applied to Transition Problems', datatype=rdflib.term.URIRef('http://www.w3.org/2001/XMLSchema#string')),\n",
       "  rdflib.term.Literal('Method', datatype=rdflib.term.URIRef('http://www.w3.org/2001/XMLSchema#string')),\n",
       "  None),\n",
       " (rdflib.term.URIRef('http://orkg.org/orkg/resource/R163738'),\n",
       "  rdflib.term.Literal('Reinforcement Learning and Trajectory Planning based on Model Approximation with Neural Networks applied to Transition Problems', datatype=rdflib.term.URIRef('http://www.w3.org/2001/XMLSchema#string')),\n",
       "  rdflib.term.Literal('Result', datatype=rdflib.term.URIRef('http://www.w3.org/2001/XMLSchema#string')),\n",
       "  None),\n",
       " (rdflib.term.URIRef('http://orkg.org/orkg/resource/R163738'),\n",
       "  rdflib.term.Literal('Reinforcement Learning and Trajectory Planning based on Model Approximation with Neural Networks applied to Transition Problems', datatype=rdflib.term.URIRef('http://www.w3.org/2001/XMLSchema#string')),\n",
       "  rdflib.term.Literal('has research problem', datatype=rdflib.term.URIRef('http://www.w3.org/2001/XMLSchema#string')),\n",
       "  None),\n",
       " (rdflib.term.URIRef('http://orkg.org/orkg/resource/R163738'),\n",
       "  rdflib.term.Literal('Reinforcement Learning and Trajectory Planning based on Model Approximation with Neural Networks applied to Transition Problems', datatype=rdflib.term.URIRef('http://www.w3.org/2001/XMLSchema#string')),\n",
       "  rdflib.term.Literal('Has example', datatype=rdflib.term.URIRef('http://www.w3.org/2001/XMLSchema#string')),\n",
       "  None),\n",
       " (rdflib.term.URIRef('http://orkg.org/orkg/resource/R163738'),\n",
       "  rdflib.term.Literal('Reinforcement Learning and Trajectory Planning based on Model Approximation with Neural Networks applied to Transition Problems', datatype=rdflib.term.URIRef('http://www.w3.org/2001/XMLSchema#string')),\n",
       "  rdflib.term.Literal('Has example', datatype=rdflib.term.URIRef('http://www.w3.org/2001/XMLSchema#string')),\n",
       "  None),\n",
       " (rdflib.term.URIRef('http://orkg.org/orkg/resource/R163738'),\n",
       "  rdflib.term.Literal('Reinforcement Learning and Trajectory Planning based on Model Approximation with Neural Networks applied to Transition Problems', datatype=rdflib.term.URIRef('http://www.w3.org/2001/XMLSchema#string')),\n",
       "  rdflib.term.Literal('Has simulation results', datatype=rdflib.term.URIRef('http://www.w3.org/2001/XMLSchema#string')),\n",
       "  None),\n",
       " (rdflib.term.URIRef('http://orkg.org/orkg/resource/R163738'),\n",
       "  rdflib.term.Literal('Reinforcement Learning and Trajectory Planning based on Model Approximation with Neural Networks applied to Transition Problems', datatype=rdflib.term.URIRef('http://www.w3.org/2001/XMLSchema#string')),\n",
       "  rdflib.term.Literal('has experimental results', datatype=rdflib.term.URIRef('http://www.w3.org/2001/XMLSchema#string')),\n",
       "  None),\n",
       " (rdflib.term.URIRef('http://orkg.org/orkg/resource/R162664'),\n",
       "  rdflib.term.Literal('Generation of stable limit cycles with prescribed frequency and amplitude via polynomial feedback', datatype=rdflib.term.URIRef('http://www.w3.org/2001/XMLSchema#string')),\n",
       "  rdflib.term.Literal('Method', datatype=rdflib.term.URIRef('http://www.w3.org/2001/XMLSchema#string')),\n",
       "  None),\n",
       " (rdflib.term.URIRef('http://orkg.org/orkg/resource/R162664'),\n",
       "  rdflib.term.Literal('Generation of stable limit cycles with prescribed frequency and amplitude via polynomial feedback', datatype=rdflib.term.URIRef('http://www.w3.org/2001/XMLSchema#string')),\n",
       "  rdflib.term.Literal('Method', datatype=rdflib.term.URIRef('http://www.w3.org/2001/XMLSchema#string')),\n",
       "  None),\n",
       " (rdflib.term.URIRef('http://orkg.org/orkg/resource/R162664'),\n",
       "  rdflib.term.Literal('Generation of stable limit cycles with prescribed frequency and amplitude via polynomial feedback', datatype=rdflib.term.URIRef('http://www.w3.org/2001/XMLSchema#string')),\n",
       "  rdflib.term.Literal('Result', datatype=rdflib.term.URIRef('http://www.w3.org/2001/XMLSchema#string')),\n",
       "  None),\n",
       " (rdflib.term.URIRef('http://orkg.org/orkg/resource/R162664'),\n",
       "  rdflib.term.Literal('Generation of stable limit cycles with prescribed frequency and amplitude via polynomial feedback', datatype=rdflib.term.URIRef('http://www.w3.org/2001/XMLSchema#string')),\n",
       "  rdflib.term.Literal('has research problem', datatype=rdflib.term.URIRef('http://www.w3.org/2001/XMLSchema#string')),\n",
       "  None),\n",
       " (rdflib.term.URIRef('http://orkg.org/orkg/resource/R162664'),\n",
       "  rdflib.term.Literal('Generation of stable limit cycles with prescribed frequency and amplitude via polynomial feedback', datatype=rdflib.term.URIRef('http://www.w3.org/2001/XMLSchema#string')),\n",
       "  rdflib.term.Literal('Has example', datatype=rdflib.term.URIRef('http://www.w3.org/2001/XMLSchema#string')),\n",
       "  None),\n",
       " (rdflib.term.URIRef('http://orkg.org/orkg/resource/R146978'),\n",
       "  rdflib.term.Literal('Data-Driven Model Predictive Control With Stability and Robustness Guarantees', datatype=rdflib.term.URIRef('http://www.w3.org/2001/XMLSchema#string')),\n",
       "  rdflib.term.Literal('has research problem', datatype=rdflib.term.URIRef('http://www.w3.org/2001/XMLSchema#string')),\n",
       "  None),\n",
       " (rdflib.term.URIRef('http://orkg.org/orkg/resource/R146978'),\n",
       "  rdflib.term.Literal('Data-Driven Model Predictive Control With Stability and Robustness Guarantees', datatype=rdflib.term.URIRef('http://www.w3.org/2001/XMLSchema#string')),\n",
       "  rdflib.term.Literal('Has example', datatype=rdflib.term.URIRef('http://www.w3.org/2001/XMLSchema#string')),\n",
       "  None),\n",
       " (rdflib.term.URIRef('http://orkg.org/orkg/resource/R146978'),\n",
       "  rdflib.term.Literal('Data-Driven Model Predictive Control With Stability and Robustness Guarantees', datatype=rdflib.term.URIRef('http://www.w3.org/2001/XMLSchema#string')),\n",
       "  rdflib.term.Literal('Theoretical guarantees', datatype=rdflib.term.URIRef('http://www.w3.org/2001/XMLSchema#string')),\n",
       "  None),\n",
       " (rdflib.term.URIRef('http://orkg.org/orkg/resource/R146978'),\n",
       "  rdflib.term.Literal('Data-Driven Model Predictive Control With Stability and Robustness Guarantees', datatype=rdflib.term.URIRef('http://www.w3.org/2001/XMLSchema#string')),\n",
       "  rdflib.term.Literal('Robustness analysis', datatype=rdflib.term.URIRef('http://www.w3.org/2001/XMLSchema#string')),\n",
       "  None),\n",
       " (rdflib.term.URIRef('http://orkg.org/orkg/resource/R146974'),\n",
       "  rdflib.term.Literal('Data-Enabled Predictive Control: In the Shallows of the DeePC', datatype=rdflib.term.URIRef('http://www.w3.org/2001/XMLSchema#string')),\n",
       "  rdflib.term.Literal('has research problem', datatype=rdflib.term.URIRef('http://www.w3.org/2001/XMLSchema#string')),\n",
       "  None),\n",
       " (rdflib.term.URIRef('http://orkg.org/orkg/resource/R146974'),\n",
       "  rdflib.term.Literal('Data-Enabled Predictive Control: In the Shallows of the DeePC', datatype=rdflib.term.URIRef('http://www.w3.org/2001/XMLSchema#string')),\n",
       "  rdflib.term.Literal('Has example', datatype=rdflib.term.URIRef('http://www.w3.org/2001/XMLSchema#string')),\n",
       "  None),\n",
       " (rdflib.term.URIRef('http://orkg.org/orkg/resource/R146974'),\n",
       "  rdflib.term.Literal('Data-Enabled Predictive Control: In the Shallows of the DeePC', datatype=rdflib.term.URIRef('http://www.w3.org/2001/XMLSchema#string')),\n",
       "  rdflib.term.Literal('Theoretical guarantees', datatype=rdflib.term.URIRef('http://www.w3.org/2001/XMLSchema#string')),\n",
       "  None),\n",
       " (rdflib.term.URIRef('http://orkg.org/orkg/resource/R146974'),\n",
       "  rdflib.term.Literal('Data-Enabled Predictive Control: In the Shallows of the DeePC', datatype=rdflib.term.URIRef('http://www.w3.org/2001/XMLSchema#string')),\n",
       "  rdflib.term.Literal('Robustness analysis', datatype=rdflib.term.URIRef('http://www.w3.org/2001/XMLSchema#string')),\n",
       "  None),\n",
       " (rdflib.term.URIRef('http://orkg.org/orkg/resource/R146959'),\n",
       "  rdflib.term.Literal('Development and In Silico Evaluation of a Model-Based Closed-Loop Fluid Resuscitation Control Algorithm', datatype=rdflib.term.URIRef('http://www.w3.org/2001/XMLSchema#string')),\n",
       "  rdflib.term.Literal('has research problem', datatype=rdflib.term.URIRef('http://www.w3.org/2001/XMLSchema#string')),\n",
       "  None),\n",
       " (rdflib.term.URIRef('http://orkg.org/orkg/resource/R146959'),\n",
       "  rdflib.term.Literal('Development and In Silico Evaluation of a Model-Based Closed-Loop Fluid Resuscitation Control Algorithm', datatype=rdflib.term.URIRef('http://www.w3.org/2001/XMLSchema#string')),\n",
       "  rdflib.term.Literal('has research problem', datatype=rdflib.term.URIRef('http://www.w3.org/2001/XMLSchema#string')),\n",
       "  None),\n",
       " (rdflib.term.URIRef('http://orkg.org/orkg/resource/R146959'),\n",
       "  rdflib.term.Literal('Development and In Silico Evaluation of a Model-Based Closed-Loop Fluid Resuscitation Control Algorithm', datatype=rdflib.term.URIRef('http://www.w3.org/2001/XMLSchema#string')),\n",
       "  rdflib.term.Literal('has research problem', datatype=rdflib.term.URIRef('http://www.w3.org/2001/XMLSchema#string')),\n",
       "  None),\n",
       " (rdflib.term.URIRef('http://orkg.org/orkg/resource/R146959'),\n",
       "  rdflib.term.Literal('Development and In Silico Evaluation of a Model-Based Closed-Loop Fluid Resuscitation Control Algorithm', datatype=rdflib.term.URIRef('http://www.w3.org/2001/XMLSchema#string')),\n",
       "  rdflib.term.Literal('has research problem', datatype=rdflib.term.URIRef('http://www.w3.org/2001/XMLSchema#string')),\n",
       "  None),\n",
       " (rdflib.term.URIRef('http://orkg.org/orkg/resource/R146959'),\n",
       "  rdflib.term.Literal('Development and In Silico Evaluation of a Model-Based Closed-Loop Fluid Resuscitation Control Algorithm', datatype=rdflib.term.URIRef('http://www.w3.org/2001/XMLSchema#string')),\n",
       "  rdflib.term.Literal('Mathematical model', datatype=rdflib.term.URIRef('http://www.w3.org/2001/XMLSchema#string')),\n",
       "  None),\n",
       " (rdflib.term.URIRef('http://orkg.org/orkg/resource/R146959'),\n",
       "  rdflib.term.Literal('Development and In Silico Evaluation of a Model-Based Closed-Loop Fluid Resuscitation Control Algorithm', datatype=rdflib.term.URIRef('http://www.w3.org/2001/XMLSchema#string')),\n",
       "  rdflib.term.Literal('Experimental validation of mathematical model', datatype=rdflib.term.URIRef('http://www.w3.org/2001/XMLSchema#string')),\n",
       "  None),\n",
       " (rdflib.term.URIRef('http://orkg.org/orkg/resource/R146959'),\n",
       "  rdflib.term.Literal('Development and In Silico Evaluation of a Model-Based Closed-Loop Fluid Resuscitation Control Algorithm', datatype=rdflib.term.URIRef('http://www.w3.org/2001/XMLSchema#string')),\n",
       "  rdflib.term.Literal('Mathematical model used In-silico study', datatype=rdflib.term.URIRef('http://www.w3.org/2001/XMLSchema#string')),\n",
       "  None),\n",
       " (rdflib.term.URIRef('http://orkg.org/orkg/resource/R146945'),\n",
       "  rdflib.term.Literal('Design and In Silico Evaluation of a Closed-Loop Hemorrhage Resuscitation Algorithm With Blood Pressure as Controlled Variable', datatype=rdflib.term.URIRef('http://www.w3.org/2001/XMLSchema#string')),\n",
       "  rdflib.term.Literal('has research problem', datatype=rdflib.term.URIRef('http://www.w3.org/2001/XMLSchema#string')),\n",
       "  None),\n",
       " (rdflib.term.URIRef('http://orkg.org/orkg/resource/R146945'),\n",
       "  rdflib.term.Literal('Design and In Silico Evaluation of a Closed-Loop Hemorrhage Resuscitation Algorithm With Blood Pressure as Controlled Variable', datatype=rdflib.term.URIRef('http://www.w3.org/2001/XMLSchema#string')),\n",
       "  rdflib.term.Literal('has research problem', datatype=rdflib.term.URIRef('http://www.w3.org/2001/XMLSchema#string')),\n",
       "  None),\n",
       " (rdflib.term.URIRef('http://orkg.org/orkg/resource/R146945'),\n",
       "  rdflib.term.Literal('Design and In Silico Evaluation of a Closed-Loop Hemorrhage Resuscitation Algorithm With Blood Pressure as Controlled Variable', datatype=rdflib.term.URIRef('http://www.w3.org/2001/XMLSchema#string')),\n",
       "  rdflib.term.Literal('has research problem', datatype=rdflib.term.URIRef('http://www.w3.org/2001/XMLSchema#string')),\n",
       "  None),\n",
       " (rdflib.term.URIRef('http://orkg.org/orkg/resource/R146945'),\n",
       "  rdflib.term.Literal('Design and In Silico Evaluation of a Closed-Loop Hemorrhage Resuscitation Algorithm With Blood Pressure as Controlled Variable', datatype=rdflib.term.URIRef('http://www.w3.org/2001/XMLSchema#string')),\n",
       "  rdflib.term.Literal('has research problem', datatype=rdflib.term.URIRef('http://www.w3.org/2001/XMLSchema#string')),\n",
       "  None),\n",
       " (rdflib.term.URIRef('http://orkg.org/orkg/resource/R146945'),\n",
       "  rdflib.term.Literal('Design and In Silico Evaluation of a Closed-Loop Hemorrhage Resuscitation Algorithm With Blood Pressure as Controlled Variable', datatype=rdflib.term.URIRef('http://www.w3.org/2001/XMLSchema#string')),\n",
       "  rdflib.term.Literal('has research problem', datatype=rdflib.term.URIRef('http://www.w3.org/2001/XMLSchema#string')),\n",
       "  None),\n",
       " (rdflib.term.URIRef('http://orkg.org/orkg/resource/R146945'),\n",
       "  rdflib.term.Literal('Design and In Silico Evaluation of a Closed-Loop Hemorrhage Resuscitation Algorithm With Blood Pressure as Controlled Variable', datatype=rdflib.term.URIRef('http://www.w3.org/2001/XMLSchema#string')),\n",
       "  rdflib.term.Literal('has research problem', datatype=rdflib.term.URIRef('http://www.w3.org/2001/XMLSchema#string')),\n",
       "  None),\n",
       " (rdflib.term.URIRef('http://orkg.org/orkg/resource/R146945'),\n",
       "  rdflib.term.Literal('Design and In Silico Evaluation of a Closed-Loop Hemorrhage Resuscitation Algorithm With Blood Pressure as Controlled Variable', datatype=rdflib.term.URIRef('http://www.w3.org/2001/XMLSchema#string')),\n",
       "  rdflib.term.Literal('Mathematical model', datatype=rdflib.term.URIRef('http://www.w3.org/2001/XMLSchema#string')),\n",
       "  None),\n",
       " (rdflib.term.URIRef('http://orkg.org/orkg/resource/R146945'),\n",
       "  rdflib.term.Literal('Design and In Silico Evaluation of a Closed-Loop Hemorrhage Resuscitation Algorithm With Blood Pressure as Controlled Variable', datatype=rdflib.term.URIRef('http://www.w3.org/2001/XMLSchema#string')),\n",
       "  rdflib.term.Literal('Experimental validation of mathematical model', datatype=rdflib.term.URIRef('http://www.w3.org/2001/XMLSchema#string')),\n",
       "  None),\n",
       " (rdflib.term.URIRef('http://orkg.org/orkg/resource/R146945'),\n",
       "  rdflib.term.Literal('Design and In Silico Evaluation of a Closed-Loop Hemorrhage Resuscitation Algorithm With Blood Pressure as Controlled Variable', datatype=rdflib.term.URIRef('http://www.w3.org/2001/XMLSchema#string')),\n",
       "  rdflib.term.Literal('Mathematical model used In-silico study', datatype=rdflib.term.URIRef('http://www.w3.org/2001/XMLSchema#string')),\n",
       "  None),\n",
       " (rdflib.term.URIRef('http://orkg.org/orkg/resource/R146945'),\n",
       "  rdflib.term.Literal('Design and In Silico Evaluation of a Closed-Loop Hemorrhage Resuscitation Algorithm With Blood Pressure as Controlled Variable', datatype=rdflib.term.URIRef('http://www.w3.org/2001/XMLSchema#string')),\n",
       "  rdflib.term.Literal('In-vivo study', datatype=rdflib.term.URIRef('http://www.w3.org/2001/XMLSchema#string')),\n",
       "  None),\n",
       " (rdflib.term.URIRef('http://orkg.org/orkg/resource/R138532'),\n",
       "  rdflib.term.Literal('Incremental projection approach of regularization for inverse problems', datatype=rdflib.term.URIRef('http://www.w3.org/2001/XMLSchema#string')),\n",
       "  rdflib.term.Literal('programming language', datatype=rdflib.term.URIRef('http://www.w3.org/2001/XMLSchema#string')),\n",
       "  None),\n",
       " (rdflib.term.URIRef('http://orkg.org/orkg/resource/R138532'),\n",
       "  rdflib.term.Literal('Incremental projection approach of regularization for inverse problems', datatype=rdflib.term.URIRef('http://www.w3.org/2001/XMLSchema#string')),\n",
       "  rdflib.term.Literal('has research problem', datatype=rdflib.term.URIRef('http://www.w3.org/2001/XMLSchema#string')),\n",
       "  None),\n",
       " (rdflib.term.URIRef('http://orkg.org/orkg/resource/R138527'),\n",
       "  rdflib.term.Literal('Sensitivity analysis applied to a variational data assimilation of a simulated pollution transport problem: SENSITIVITY ANALYSIS IN VARIATIONAL DATA ASSIMILATION PROBLEM', datatype=rdflib.term.URIRef('http://www.w3.org/2001/XMLSchema#string')),\n",
       "  rdflib.term.Literal('programming language', datatype=rdflib.term.URIRef('http://www.w3.org/2001/XMLSchema#string')),\n",
       "  None),\n",
       " (rdflib.term.URIRef('http://orkg.org/orkg/resource/R138527'),\n",
       "  rdflib.term.Literal('Sensitivity analysis applied to a variational data assimilation of a simulated pollution transport problem: SENSITIVITY ANALYSIS IN VARIATIONAL DATA ASSIMILATION PROBLEM', datatype=rdflib.term.URIRef('http://www.w3.org/2001/XMLSchema#string')),\n",
       "  rdflib.term.Literal('has research problem', datatype=rdflib.term.URIRef('http://www.w3.org/2001/XMLSchema#string')),\n",
       "  None)]"
      ]
     },
     "execution_count": 9,
     "metadata": {},
     "output_type": "execute_result"
    }
   ],
   "source": [
    "a = list(res)"
   ]
  },
  {
   "cell_type": "code",
   "execution_count": 13,
   "metadata": {},
   "outputs": [
    {
     "data": {
      "text/plain": [
       "61"
      ]
     },
     "execution_count": 13,
     "metadata": {},
     "output_type": "execute_result"
    }
   ],
   "source": [
    "len(a)"
   ]
  },
  {
   "cell_type": "code",
   "execution_count": 14,
   "metadata": {},
   "outputs": [],
   "source": [
    "w = a[0]"
   ]
  },
  {
   "cell_type": "code",
   "execution_count": 18,
   "metadata": {},
   "outputs": [
    {
     "data": {
      "text/plain": [
       "rdflib.term.Literal('Method', datatype=rdflib.term.URIRef('http://www.w3.org/2001/XMLSchema#string'))"
      ]
     },
     "execution_count": 18,
     "metadata": {},
     "output_type": "execute_result"
    }
   ],
   "source": [
    "w[2]"
   ]
  },
  {
   "cell_type": "code",
   "execution_count": 19,
   "metadata": {},
   "outputs": [],
   "source": [
    "w = a[1]"
   ]
  },
  {
   "cell_type": "code",
   "execution_count": 20,
   "metadata": {},
   "outputs": [
    {
     "data": {
      "text/plain": [
       "(rdflib.term.URIRef('http://orkg.org/orkg/resource/R164081'),\n",
       " rdflib.term.Literal('Predictive Path Following of Mobile Robots without Terminal Stabilizing Constraints', datatype=rdflib.term.URIRef('http://www.w3.org/2001/XMLSchema#string')),\n",
       " rdflib.term.Literal('Method', datatype=rdflib.term.URIRef('http://www.w3.org/2001/XMLSchema#string')),\n",
       " None)"
      ]
     },
     "execution_count": 20,
     "metadata": {},
     "output_type": "execute_result"
    }
   ],
   "source": [
    "w"
   ]
  },
  {
   "cell_type": "code",
   "execution_count": null,
   "metadata": {},
   "outputs": [],
   "source": []
  }
 ],
 "metadata": {
  "kernelspec": {
   "display_name": "Python 3",
   "language": "python",
   "name": "python3"
  },
  "language_info": {
   "codemirror_mode": {
    "name": "ipython",
    "version": 3
   },
   "file_extension": ".py",
   "mimetype": "text/x-python",
   "name": "python",
   "nbconvert_exporter": "python",
   "pygments_lexer": "ipython3",
   "version": "3.8.6"
  }
 },
 "nbformat": 4,
 "nbformat_minor": 4
}
