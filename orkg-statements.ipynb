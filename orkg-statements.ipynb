{
 "cells": [
  {
   "cell_type": "markdown",
   "metadata": {},
   "source": [
    "This notebook is used to support the ORKG-related statements made in the paper\n",
    "<br><br>\n",
    "<center>\n",
    "\"Examining the ORKG towards Representation of Control Theoretic Knowledge – Preliminary Experiences and Conclusions\"\n",
    "\n",
    "</center>\n",
    "    \n",
    "(currently under review).\n",
    "\n",
    "Note: every SPARQL-Query can also be run via the web interface <https://www.orkg.org/orkg/sparql/>."
   ]
  },
  {
   "cell_type": "code",
   "execution_count": 1,
   "metadata": {},
   "outputs": [
    {
     "name": "stdout",
     "output_type": "stream",
     "text": [
      "Sun Feb 27 00:55:33 2022\n"
     ]
    }
   ],
   "source": [
    "import time\n",
    "print(time.ctime())\n",
    "%load_ext ipydex.displaytools"
   ]
  },
  {
   "cell_type": "code",
   "execution_count": 2,
   "metadata": {},
   "outputs": [],
   "source": [
    "from SPARQLWrapper import SPARQLWrapper, JSON\n",
    "import pandas as pd\n",
    "import numpy as np\n",
    "from matplotlib import pyplot as plt\n",
    "from IPython.display import display, HTML\n",
    "\n",
    "sparql = SPARQLWrapper(\"https://www.orkg.org/orkg/triplestore/\")\n",
    "sparql.setReturnFormat(JSON)\n",
    "\n",
    "prefixes = \"\"\"\n",
    "PREFIX orkgr: <http://orkg.org/orkg/resource/>\n",
    "PREFIX orkgc: <http://orkg.org/orkg/class/>\n",
    "PREFIX orkgp: <http://orkg.org/orkg/predicate/>\n",
    "PREFIX rdfs: <http://www.w3.org/2000/01/rdf-schema#>\n",
    "PREFIX xsd: <http://www.w3.org/2001/XMLSchema#>\n",
    "PREFIX rdf: <http://www.w3.org/1999/02/22-rdf-syntax-ns#>\n",
    "\n",
    "\"\"\""
   ]
  },
  {
   "cell_type": "markdown",
   "metadata": {},
   "source": [
    "**Claim:**  At the time of writing, the ORKG SPARQL query service lists\n",
    "101218 distinct nodes (excluding literal values) and 4699 properties.\n"
   ]
  },
  {
   "cell_type": "code",
   "execution_count": 3,
   "metadata": {},
   "outputs": [
    {
     "data": {
      "text/plain": [
       "q := [{'count': {'type': 'typed-literal',\n",
       "   'datatype': 'http://www.w3.org/2001/XMLSchema#integer',\n",
       "   'value': '101218'}}]"
      ]
     },
     "metadata": {},
     "output_type": "display_data"
    },
    {
     "data": {
      "text/plain": [
       "---"
      ]
     },
     "metadata": {},
     "output_type": "display_data"
    }
   ],
   "source": [
    "qs = \"\"\"\n",
    "SELECT  (COUNT(distinct ?vertex) AS ?count)\n",
    "WHERE\n",
    "{\n",
    "  {\n",
    "    ?vertex ?p []\n",
    "  }\n",
    "  UNION\n",
    "  {\n",
    "    [] ?p ?vertex\n",
    "    FILTER(!IsLiteral(?vertex))\n",
    "  }\n",
    "}\n",
    "\"\"\"\n",
    "\n",
    "sparql.setQuery(qs)\n",
    "ans = sparql.query().convert()\n",
    "q = ans[\"results\"][\"bindings\"] ##:"
   ]
  },
  {
   "cell_type": "code",
   "execution_count": 4,
   "metadata": {},
   "outputs": [
    {
     "data": {
      "text/plain": [
       "q := [{'count': {'type': 'typed-literal',\n",
       "   'datatype': 'http://www.w3.org/2001/XMLSchema#integer',\n",
       "   'value': '4699'}}]"
      ]
     },
     "metadata": {},
     "output_type": "display_data"
    },
    {
     "data": {
      "text/plain": [
       "---"
      ]
     },
     "metadata": {},
     "output_type": "display_data"
    }
   ],
   "source": [
    "qs = \"\"\"\n",
    "SELECT  (COUNT(distinct ?p) AS ?count)\n",
    "WHERE\n",
    "{\n",
    "  {\n",
    "    ?vertex ?p []\n",
    "  }\n",
    "  UNION\n",
    "  {\n",
    "    [] ?p ?vertex\n",
    "    FILTER(!IsLiteral(?vertex))\n",
    "  }\n",
    "}\n",
    "\"\"\"\n",
    "\n",
    "sparql.setQuery(qs)\n",
    "ans = sparql.query().convert()\n",
    "q = ans[\"results\"][\"bindings\"] ##:"
   ]
  },
  {
   "cell_type": "markdown",
   "metadata": {},
   "source": [
    "---\n",
    "\n",
    "**Claim:**  At the time of writing, the ORKG SPARQL query service lists\n",
    "101218 distinct nodes (excluding literal values) and 4699 properties.\n"
   ]
  },
  {
   "cell_type": "code",
   "execution_count": 5,
   "metadata": {},
   "outputs": [
    {
     "name": "stdout",
     "output_type": "stream",
     "text": [
      "687670\n"
     ]
    }
   ],
   "source": [
    "with open(\"dump2.nt\") as thefile:\n",
    "    lines = thefile.readlines()\n",
    "    \n",
    "print(len(lines))\n",
    "new_lines = []\n",
    "for l in lines:\n",
    "    if \"<null>\" in l:\n",
    "        continue\n",
    "    new_lines.append(l)"
   ]
  },
  {
   "cell_type": "markdown",
   "metadata": {},
   "source": [
    "---\n",
    "\n",
    "**Claim:** At the beginning of this study (2022-01-15) there are five papers\n",
    "listed under research field Control Theory (R109).\n"
   ]
  },
  {
   "cell_type": "code",
   "execution_count": 6,
   "metadata": {},
   "outputs": [],
   "source": [
    "qs = prefixes + \"\"\"\n",
    "select distinct ?paper ?title where\n",
    "  {?paper orkgp:P30 orkgr:R109;\n",
    "          rdfs:label ?title;\n",
    "          rdf:type ?type.\n",
    "  MINUS { ?paper rdf:type orkgc:PaperDeleted . }\n",
    "  }\n",
    "\"\"\"\n",
    "\n",
    "sparql.setQuery(qs)\n",
    "ans = sparql.query().convert()\n",
    "q = ans[\"results\"][\"bindings\"]"
   ]
  },
  {
   "cell_type": "code",
   "execution_count": 7,
   "metadata": {},
   "outputs": [
    {
     "data": {
      "text/html": [
       "<div>\n",
       "<style scoped>\n",
       "    .dataframe tbody tr th:only-of-type {\n",
       "        vertical-align: middle;\n",
       "    }\n",
       "\n",
       "    .dataframe tbody tr th {\n",
       "        vertical-align: top;\n",
       "    }\n",
       "\n",
       "    .dataframe thead th {\n",
       "        text-align: right;\n",
       "    }\n",
       "</style>\n",
       "<table border=\"1\" class=\"dataframe\">\n",
       "  <thead>\n",
       "    <tr style=\"text-align: right;\">\n",
       "      <th></th>\n",
       "      <th>paper</th>\n",
       "      <th>title</th>\n",
       "    </tr>\n",
       "  </thead>\n",
       "  <tbody>\n",
       "    <tr>\n",
       "      <th>0</th>\n",
       "      <td>http://orkg.org/orkg/resource/R138527</td>\n",
       "      <td>Sensitivity analysis applied to a variational ...</td>\n",
       "    </tr>\n",
       "    <tr>\n",
       "      <th>1</th>\n",
       "      <td>http://orkg.org/orkg/resource/R138532</td>\n",
       "      <td>Incremental projection approach of regularizat...</td>\n",
       "    </tr>\n",
       "    <tr>\n",
       "      <th>2</th>\n",
       "      <td>http://orkg.org/orkg/resource/R146945</td>\n",
       "      <td>Design and In Silico Evaluation of a Closed-Lo...</td>\n",
       "    </tr>\n",
       "    <tr>\n",
       "      <th>3</th>\n",
       "      <td>http://orkg.org/orkg/resource/R146974</td>\n",
       "      <td>Data-Enabled Predictive Control: In the Shallo...</td>\n",
       "    </tr>\n",
       "    <tr>\n",
       "      <th>4</th>\n",
       "      <td>http://orkg.org/orkg/resource/R146978</td>\n",
       "      <td>Data-Driven Model Predictive Control With Stab...</td>\n",
       "    </tr>\n",
       "  </tbody>\n",
       "</table>\n",
       "</div>"
      ],
      "text/plain": [
       "                                   paper  \\\n",
       "0  http://orkg.org/orkg/resource/R138527   \n",
       "1  http://orkg.org/orkg/resource/R138532   \n",
       "2  http://orkg.org/orkg/resource/R146945   \n",
       "3  http://orkg.org/orkg/resource/R146974   \n",
       "4  http://orkg.org/orkg/resource/R146978   \n",
       "\n",
       "                                               title  \n",
       "0  Sensitivity analysis applied to a variational ...  \n",
       "1  Incremental projection approach of regularizat...  \n",
       "2  Design and In Silico Evaluation of a Closed-Lo...  \n",
       "3  Data-Enabled Predictive Control: In the Shallo...  \n",
       "4  Data-Driven Model Predictive Control With Stab...  "
      ]
     },
     "execution_count": 7,
     "metadata": {},
     "output_type": "execute_result"
    }
   ],
   "source": [
    "flat_result_list = [{k: v[\"value\"] for k, v in row.items()} for row in q]\n",
    "pd.DataFrame(flat_result_list)"
   ]
  },
  {
   "cell_type": "markdown",
   "metadata": {},
   "source": [
    "---\n",
    "\n",
    "**Claim:** The control-theoretic papers have between 1 and five associated (via `P32`) research problems.\n"
   ]
  },
  {
   "cell_type": "code",
   "execution_count": 8,
   "metadata": {},
   "outputs": [
    {
     "data": {
      "text/html": [
       "<div>\n",
       "<style scoped>\n",
       "    .dataframe tbody tr th:only-of-type {\n",
       "        vertical-align: middle;\n",
       "    }\n",
       "\n",
       "    .dataframe tbody tr th {\n",
       "        vertical-align: top;\n",
       "    }\n",
       "\n",
       "    .dataframe thead th {\n",
       "        text-align: right;\n",
       "    }\n",
       "</style>\n",
       "<table border=\"1\" class=\"dataframe\">\n",
       "  <thead>\n",
       "    <tr style=\"text-align: right;\">\n",
       "      <th></th>\n",
       "      <th>paper</th>\n",
       "      <th>title</th>\n",
       "      <th>rpLabel</th>\n",
       "    </tr>\n",
       "  </thead>\n",
       "  <tbody>\n",
       "    <tr>\n",
       "      <th>0</th>\n",
       "      <td>http://orkg.org/orkg/resource/R138527</td>\n",
       "      <td>Sensitivity analysis applied to a variational ...</td>\n",
       "      <td>Adjoint based sensitivity</td>\n",
       "    </tr>\n",
       "    <tr>\n",
       "      <th>1</th>\n",
       "      <td>http://orkg.org/orkg/resource/R138532</td>\n",
       "      <td>Incremental projection approach of regularizat...</td>\n",
       "      <td>L2 Regularization</td>\n",
       "    </tr>\n",
       "    <tr>\n",
       "      <th>2</th>\n",
       "      <td>http://orkg.org/orkg/resource/R146945</td>\n",
       "      <td>Design and In Silico Evaluation of a Closed-Lo...</td>\n",
       "      <td>Adaptive control of fluid resuscitation</td>\n",
       "    </tr>\n",
       "    <tr>\n",
       "      <th>3</th>\n",
       "      <td>http://orkg.org/orkg/resource/R146945</td>\n",
       "      <td>Design and In Silico Evaluation of a Closed-Lo...</td>\n",
       "      <td>modeling blood pressure response to infusion a...</td>\n",
       "    </tr>\n",
       "    <tr>\n",
       "      <th>4</th>\n",
       "      <td>http://orkg.org/orkg/resource/R146945</td>\n",
       "      <td>Design and In Silico Evaluation of a Closed-Lo...</td>\n",
       "      <td>automatic resusictation therapy</td>\n",
       "    </tr>\n",
       "    <tr>\n",
       "      <th>5</th>\n",
       "      <td>http://orkg.org/orkg/resource/R146945</td>\n",
       "      <td>Design and In Silico Evaluation of a Closed-Lo...</td>\n",
       "      <td>closed-loop fluid resuscitation</td>\n",
       "    </tr>\n",
       "    <tr>\n",
       "      <th>6</th>\n",
       "      <td>http://orkg.org/orkg/resource/R146945</td>\n",
       "      <td>Design and In Silico Evaluation of a Closed-Lo...</td>\n",
       "      <td>In-silico evaluation of closed-loop controllers</td>\n",
       "    </tr>\n",
       "    <tr>\n",
       "      <th>7</th>\n",
       "      <td>http://orkg.org/orkg/resource/R146945</td>\n",
       "      <td>Design and In Silico Evaluation of a Closed-Lo...</td>\n",
       "      <td>closed-loop control of hemorrhage resusication</td>\n",
       "    </tr>\n",
       "    <tr>\n",
       "      <th>8</th>\n",
       "      <td>http://orkg.org/orkg/resource/R146974</td>\n",
       "      <td>Data-Enabled Predictive Control: In the Shallo...</td>\n",
       "      <td>data-driven predictive control using input-out...</td>\n",
       "    </tr>\n",
       "    <tr>\n",
       "      <th>9</th>\n",
       "      <td>http://orkg.org/orkg/resource/R146978</td>\n",
       "      <td>Data-Driven Model Predictive Control With Stab...</td>\n",
       "      <td>data-driven predictive control using input-out...</td>\n",
       "    </tr>\n",
       "  </tbody>\n",
       "</table>\n",
       "</div>"
      ],
      "text/plain": [
       "                                   paper  \\\n",
       "0  http://orkg.org/orkg/resource/R138527   \n",
       "1  http://orkg.org/orkg/resource/R138532   \n",
       "2  http://orkg.org/orkg/resource/R146945   \n",
       "3  http://orkg.org/orkg/resource/R146945   \n",
       "4  http://orkg.org/orkg/resource/R146945   \n",
       "5  http://orkg.org/orkg/resource/R146945   \n",
       "6  http://orkg.org/orkg/resource/R146945   \n",
       "7  http://orkg.org/orkg/resource/R146945   \n",
       "8  http://orkg.org/orkg/resource/R146974   \n",
       "9  http://orkg.org/orkg/resource/R146978   \n",
       "\n",
       "                                               title  \\\n",
       "0  Sensitivity analysis applied to a variational ...   \n",
       "1  Incremental projection approach of regularizat...   \n",
       "2  Design and In Silico Evaluation of a Closed-Lo...   \n",
       "3  Design and In Silico Evaluation of a Closed-Lo...   \n",
       "4  Design and In Silico Evaluation of a Closed-Lo...   \n",
       "5  Design and In Silico Evaluation of a Closed-Lo...   \n",
       "6  Design and In Silico Evaluation of a Closed-Lo...   \n",
       "7  Design and In Silico Evaluation of a Closed-Lo...   \n",
       "8  Data-Enabled Predictive Control: In the Shallo...   \n",
       "9  Data-Driven Model Predictive Control With Stab...   \n",
       "\n",
       "                                             rpLabel  \n",
       "0                          Adjoint based sensitivity  \n",
       "1                                  L2 Regularization  \n",
       "2            Adaptive control of fluid resuscitation  \n",
       "3  modeling blood pressure response to infusion a...  \n",
       "4                    automatic resusictation therapy  \n",
       "5                    closed-loop fluid resuscitation  \n",
       "6    In-silico evaluation of closed-loop controllers  \n",
       "7     closed-loop control of hemorrhage resusication  \n",
       "8  data-driven predictive control using input-out...  \n",
       "9  data-driven predictive control using input-out...  "
      ]
     },
     "execution_count": 8,
     "metadata": {},
     "output_type": "execute_result"
    }
   ],
   "source": [
    "qs = prefixes + \"\"\"\n",
    "SELECT distinct ?paper ?title ?rpLabel WHERE\n",
    "{\n",
    "  ?paper orkgp:P30 orkgr:R109;\n",
    "          rdfs:label ?title;\n",
    "          rdf:type ?type.\n",
    "  ?paper orkgp:P31 ?ctrb.  # contribution\n",
    "  ?ctrb orkgp:P32 ?rp.     # research problems\n",
    "  ?rp rdfs:label ?rpLabel.\n",
    "  MINUS { ?paper rdf:type orkgc:PaperDeleted . }\n",
    "\n",
    "}\n",
    "\"\"\"\n",
    "\n",
    "sparql.setQuery(qs)\n",
    "ans = sparql.query().convert()\n",
    "q = ans[\"results\"][\"bindings\"]\n",
    "flat_result_list = [{k: v[\"value\"] for k, v in row.items()} for row in q]\n",
    "pd.DataFrame(flat_result_list)"
   ]
  },
  {
   "cell_type": "markdown",
   "metadata": {},
   "source": [
    "---\n",
    "\n",
    "**Claim:**  Of these ten research problems two posses a description (via orkgp:description)\n"
   ]
  },
  {
   "cell_type": "code",
   "execution_count": 9,
   "metadata": {},
   "outputs": [
    {
     "data": {
      "text/html": [
       "<div>\n",
       "<style scoped>\n",
       "    .dataframe tbody tr th:only-of-type {\n",
       "        vertical-align: middle;\n",
       "    }\n",
       "\n",
       "    .dataframe tbody tr th {\n",
       "        vertical-align: top;\n",
       "    }\n",
       "\n",
       "    .dataframe thead th {\n",
       "        text-align: right;\n",
       "    }\n",
       "</style>\n",
       "<table border=\"1\" class=\"dataframe\">\n",
       "  <thead>\n",
       "    <tr style=\"text-align: right;\">\n",
       "      <th></th>\n",
       "      <th>rpLabel</th>\n",
       "      <th>predicate</th>\n",
       "      <th>obj</th>\n",
       "    </tr>\n",
       "  </thead>\n",
       "  <tbody>\n",
       "    <tr>\n",
       "      <th>0</th>\n",
       "      <td>Adjoint based sensitivity</td>\n",
       "      <td>http://orkg.org/orkg/predicate/description</td>\n",
       "      <td>sensitivity analysis; variational data assimil...</td>\n",
       "    </tr>\n",
       "    <tr>\n",
       "      <th>1</th>\n",
       "      <td>data-driven predictive control using input-out...</td>\n",
       "      <td>http://orkg.org/orkg/predicate/description</td>\n",
       "      <td>The predictive model in the predictive control...</td>\n",
       "    </tr>\n",
       "  </tbody>\n",
       "</table>\n",
       "</div>"
      ],
      "text/plain": [
       "                                             rpLabel  \\\n",
       "0                          Adjoint based sensitivity   \n",
       "1  data-driven predictive control using input-out...   \n",
       "\n",
       "                                    predicate  \\\n",
       "0  http://orkg.org/orkg/predicate/description   \n",
       "1  http://orkg.org/orkg/predicate/description   \n",
       "\n",
       "                                                 obj  \n",
       "0  sensitivity analysis; variational data assimil...  \n",
       "1  The predictive model in the predictive control...  "
      ]
     },
     "execution_count": 9,
     "metadata": {},
     "output_type": "execute_result"
    }
   ],
   "source": [
    "qs = prefixes + \"\"\"\n",
    "SELECT distinct ?rpLabel ?predicate ?obj WHERE\n",
    "{\n",
    "  ?paper orkgp:P30 orkgr:R109;\n",
    "          rdfs:label ?title;\n",
    "          rdf:type ?type.\n",
    "  ?paper orkgp:P31 ?ctrb.  # contribution\n",
    "  ?ctrb orkgp:P32 ?rp.     # research problems\n",
    "  ?rp rdfs:label ?rpLabel.\n",
    "  ?rp ?predicate ?obj.\n",
    "  \n",
    "  MINUS {\n",
    "  ?paper rdf:type orkgc:PaperDeleted.\n",
    "  }\n",
    "  \n",
    "  FILTER(?predicate !=  rdf:type )\n",
    "  FILTER(?predicate !=  rdfs:label )\n",
    "\n",
    "}\n",
    "\"\"\"\n",
    "\n",
    "sparql.setQuery(qs)\n",
    "ans = sparql.query().convert()\n",
    "q = ans[\"results\"][\"bindings\"]\n",
    "flat_result_list = [{k: v[\"value\"] for k, v in row.items()} for row in q]\n",
    "pd.DataFrame(flat_result_list)"
   ]
  },
  {
   "cell_type": "code",
   "execution_count": 10,
   "metadata": {},
   "outputs": [
    {
     "name": "stdout",
     "output_type": "stream",
     "text": [
      "description of research problem 'Adjoint based sensitivity':\n",
      "'sensitivity analysis; variational data assimilation; adjoint method; pollution; optimal control;\n",
      "inverse problem'\n",
      "\n",
      "\n",
      "description of research problem 'data-driven predictive control using input-output data':\n",
      "'The predictive model in the predictive control problem is now replaced by a set of input/output data matrices'\n",
      "\n",
      "\n"
     ]
    }
   ],
   "source": [
    "for r in flat_result_list:\n",
    "    print(f\"description of research problem '{r['rpLabel']}':\\n'{r['obj']}'\\n\\n\")"
   ]
  },
  {
   "cell_type": "markdown",
   "metadata": {},
   "source": [
    "---\n",
    "\n",
    "**Claim:**  All together there are 29 statements associated with the five contributions, and the by far most frequently used property is the just mentioned `has research problem` (`P32`, 14 times)."
   ]
  },
  {
   "cell_type": "code",
   "execution_count": 11,
   "metadata": {},
   "outputs": [
    {
     "data": {
      "text/html": [
       "<div>\n",
       "<style scoped>\n",
       "    .dataframe tbody tr th:only-of-type {\n",
       "        vertical-align: middle;\n",
       "    }\n",
       "\n",
       "    .dataframe tbody tr th {\n",
       "        vertical-align: top;\n",
       "    }\n",
       "\n",
       "    .dataframe thead th {\n",
       "        text-align: right;\n",
       "    }\n",
       "</style>\n",
       "<table border=\"1\" class=\"dataframe\">\n",
       "  <thead>\n",
       "    <tr style=\"text-align: right;\">\n",
       "      <th></th>\n",
       "      <th>property</th>\n",
       "      <th>propertyLabel</th>\n",
       "      <th>propertyCount</th>\n",
       "    </tr>\n",
       "  </thead>\n",
       "  <tbody>\n",
       "    <tr>\n",
       "      <th>0</th>\n",
       "      <td>http://orkg.org/orkg/predicate/P32</td>\n",
       "      <td>has research problem</td>\n",
       "      <td>14</td>\n",
       "    </tr>\n",
       "    <tr>\n",
       "      <th>1</th>\n",
       "      <td>http://orkg.org/orkg/predicate/P41907</td>\n",
       "      <td>Mathematical model</td>\n",
       "      <td>2</td>\n",
       "    </tr>\n",
       "    <tr>\n",
       "      <th>2</th>\n",
       "      <td>http://orkg.org/orkg/predicate/P41911</td>\n",
       "      <td>Theoretical guarantees</td>\n",
       "      <td>2</td>\n",
       "    </tr>\n",
       "    <tr>\n",
       "      <th>3</th>\n",
       "      <td>http://orkg.org/orkg/predicate/P41912</td>\n",
       "      <td>Robustness analysis</td>\n",
       "      <td>2</td>\n",
       "    </tr>\n",
       "    <tr>\n",
       "      <th>4</th>\n",
       "      <td>http://orkg.org/orkg/predicate/P21</td>\n",
       "      <td>programming language</td>\n",
       "      <td>2</td>\n",
       "    </tr>\n",
       "    <tr>\n",
       "      <th>5</th>\n",
       "      <td>http://orkg.org/orkg/predicate/P41909</td>\n",
       "      <td>Mathematical model used In-silico study</td>\n",
       "      <td>2</td>\n",
       "    </tr>\n",
       "    <tr>\n",
       "      <th>6</th>\n",
       "      <td>http://orkg.org/orkg/predicate/P35214</td>\n",
       "      <td>Has example</td>\n",
       "      <td>2</td>\n",
       "    </tr>\n",
       "    <tr>\n",
       "      <th>7</th>\n",
       "      <td>http://orkg.org/orkg/predicate/P41908</td>\n",
       "      <td>Experimental validation of mathematical model</td>\n",
       "      <td>2</td>\n",
       "    </tr>\n",
       "    <tr>\n",
       "      <th>8</th>\n",
       "      <td>http://orkg.org/orkg/predicate/P41910</td>\n",
       "      <td>In-vivo study</td>\n",
       "      <td>1</td>\n",
       "    </tr>\n",
       "  </tbody>\n",
       "</table>\n",
       "</div>"
      ],
      "text/plain": [
       "df :=                                 property  \\\n",
       "0     http://orkg.org/orkg/predicate/P32   \n",
       "1  http://orkg.org/orkg/predicate/P41907   \n",
       "2  http://orkg.org/orkg/predicate/P41911   \n",
       "3  http://orkg.org/orkg/predicate/P41912   \n",
       "4     http://orkg.org/orkg/predicate/P21   \n",
       "5  http://orkg.org/orkg/predicate/P41909   \n",
       "6  http://orkg.org/orkg/predicate/P35214   \n",
       "7  http://orkg.org/orkg/predicate/P41908   \n",
       "8  http://orkg.org/orkg/predicate/P41910   \n",
       "\n",
       "                                   propertyLabel propertyCount  \n",
       "0                           has research problem            14  \n",
       "1                             Mathematical model             2  \n",
       "2                         Theoretical guarantees             2  \n",
       "3                            Robustness analysis             2  \n",
       "4                           programming language             2  \n",
       "5        Mathematical model used In-silico study             2  \n",
       "6                                    Has example             2  \n",
       "7  Experimental validation of mathematical model             2  \n",
       "8                                  In-vivo study             1  "
      ]
     },
     "metadata": {},
     "output_type": "display_data"
    },
    {
     "data": {
      "text/plain": [
       "---"
      ]
     },
     "metadata": {},
     "output_type": "display_data"
    }
   ],
   "source": [
    "qs = prefixes + \"\"\"\n",
    "SELECT distinct ?property ?propertyLabel (COUNT(?property) AS ?propertyCount)\n",
    "WHERE\n",
    "{\n",
    "  ?paper orkgp:P30 orkgr:R109.\n",
    "  ?paper orkgp:P31 ?ctrb.  # contribution\n",
    "  ?ctrb ?property ?obj.     # any relation of the contribution to some object\n",
    "  ?property rdfs:label ?propertyLabel\n",
    "\n",
    "  FILTER(?property != rdfs:label)\n",
    "  FILTER(?property != rdf:type)\n",
    "\n",
    "}\n",
    "GROUP BY ?property ?propertyLabel\n",
    "ORDER BY DESC(?propertyCount)\n",
    "\"\"\"\n",
    "\n",
    "sparql.setQuery(qs)\n",
    "ans = sparql.query().convert()\n",
    "q = ans[\"results\"][\"bindings\"]\n",
    "flat_result_list = [{k: v[\"value\"] for k, v in row.items()} for row in q]\n",
    "df = pd.DataFrame(flat_result_list) ##:"
   ]
  },
  {
   "cell_type": "code",
   "execution_count": 12,
   "metadata": {},
   "outputs": [
    {
     "data": {
      "text/plain": [
       "29"
      ]
     },
     "execution_count": 12,
     "metadata": {},
     "output_type": "execute_result"
    }
   ],
   "source": [
    "df[\"propertyCount\"].astype(int).sum()"
   ]
  },
  {
   "cell_type": "markdown",
   "metadata": {},
   "source": [
    "**Note:** This query does not yet exclude deleted papers. This should be corrected in the revised version."
   ]
  },
  {
   "cell_type": "markdown",
   "metadata": {},
   "source": [
    "---\n",
    "\n",
    "**Claim:** `Has example` (`P35214`) is used for two papers/contributions and has literal string values."
   ]
  },
  {
   "cell_type": "code",
   "execution_count": 13,
   "metadata": {},
   "outputs": [
    {
     "data": {
      "text/html": [
       "<div>\n",
       "<style scoped>\n",
       "    .dataframe tbody tr th:only-of-type {\n",
       "        vertical-align: middle;\n",
       "    }\n",
       "\n",
       "    .dataframe tbody tr th {\n",
       "        vertical-align: top;\n",
       "    }\n",
       "\n",
       "    .dataframe thead th {\n",
       "        text-align: right;\n",
       "    }\n",
       "</style>\n",
       "<table border=\"1\" class=\"dataframe\">\n",
       "  <thead>\n",
       "    <tr style=\"text-align: right;\">\n",
       "      <th></th>\n",
       "      <th>title</th>\n",
       "      <th>propertyLabel</th>\n",
       "      <th>pvalue</th>\n",
       "    </tr>\n",
       "  </thead>\n",
       "  <tbody>\n",
       "    <tr>\n",
       "      <th>0</th>\n",
       "      <td>Data-Enabled Predictive Control: In the Shallo...</td>\n",
       "      <td>Has example</td>\n",
       "      <td>yes - quadcoptor</td>\n",
       "    </tr>\n",
       "    <tr>\n",
       "      <th>1</th>\n",
       "      <td>Data-Driven Model Predictive Control With Stab...</td>\n",
       "      <td>Has example</td>\n",
       "      <td>yes - four tank system</td>\n",
       "    </tr>\n",
       "  </tbody>\n",
       "</table>\n",
       "</div>"
      ],
      "text/plain": [
       "df :=                                                title propertyLabel  \\\n",
       "0  Data-Enabled Predictive Control: In the Shallo...   Has example   \n",
       "1  Data-Driven Model Predictive Control With Stab...   Has example   \n",
       "\n",
       "                   pvalue  \n",
       "0        yes - quadcoptor  \n",
       "1  yes - four tank system  "
      ]
     },
     "metadata": {},
     "output_type": "display_data"
    },
    {
     "data": {
      "text/plain": [
       "---"
      ]
     },
     "metadata": {},
     "output_type": "display_data"
    }
   ],
   "source": [
    "qs = prefixes + \"\"\"\n",
    "SELECT distinct ?title ?propertyLabel ?pvalue\n",
    "WHERE\n",
    "{\n",
    "  ?paper orkgp:P30 orkgr:R109;\n",
    "         rdfs:label ?title.\n",
    "  ?paper orkgp:P31 ?ctrb.  # contribution\n",
    "  \n",
    "  ?ctrb ?property ?pvalue.\n",
    "  VALUES ?property {orkgp:P35214}.  \n",
    "  ?property rdfs:label ?propertyLabel.\n",
    "}\n",
    "\"\"\"\n",
    "\n",
    "sparql.setQuery(qs)\n",
    "ans = sparql.query().convert()\n",
    "q = ans[\"results\"][\"bindings\"]\n",
    "flat_result_list = [{k: v[\"value\"] for k, v in row.items()} for row in q]\n",
    "df = pd.DataFrame(flat_result_list) ##:"
   ]
  },
  {
   "cell_type": "markdown",
   "metadata": {},
   "source": [
    "---\n",
    "\n",
    "**Claim:**  With five associated papers control theory is in the center field of the ordered list of all research fields."
   ]
  },
  {
   "cell_type": "code",
   "execution_count": 14,
   "metadata": {},
   "outputs": [],
   "source": [
    "qs = prefixes + \"\"\"\n",
    "SELECT ?field ?fieldLabel (COUNT(?paper) AS ?paperCount)\n",
    "WHERE {\n",
    "  ?paper a orkgc:Paper. # ... is a paper\n",
    "  ?paper orkgp:P30 ?field.\n",
    "  ?paper rdfs:label ?title.\n",
    "  ?field rdfs:label ?fieldLabel.\n",
    "\n",
    "}\n",
    "GROUP BY ?field ?fieldLabel\n",
    "ORDER BY DESC(?paperCount)\n",
    "LIMIT 1000\n",
    "\"\"\"\n",
    "sparql.setQuery(qs)\n",
    "ans = sparql.query().convert()\n",
    "q = ans[\"results\"][\"bindings\"]\n",
    "\n",
    "flat_result_list = [{k: v[\"value\"] for k, v in row.items()} for row in q]"
   ]
  },
  {
   "cell_type": "code",
   "execution_count": 15,
   "metadata": {},
   "outputs": [
    {
     "data": {
      "text/plain": [
       "info(paper_count) := \"<class 'numpy.ndarray'> with shape: (228,)\""
      ]
     },
     "metadata": {},
     "output_type": "display_data"
    },
    {
     "data": {
      "text/plain": [
       "---"
      ]
     },
     "metadata": {},
     "output_type": "display_data"
    }
   ],
   "source": [
    "df = pd.DataFrame(flat_result_list)\n",
    "idx = np.flatnonzero(df[\"fieldLabel\"] == \"Control Theory\")[0]\n",
    "paper_count = (df[\"paperCount\"]).astype(int).to_numpy() ##:i"
   ]
  },
  {
   "cell_type": "code",
   "execution_count": 16,
   "metadata": {},
   "outputs": [
    {
     "data": {
      "image/png": "[encoded data removed]",
      "text/plain": [
       "<Figure size 590.551x275.591 with 1 Axes>"
      ]
     },
     "metadata": {},
     "output_type": "display_data"
    }
   ],
   "source": [
    "mm = 1/25.4 # mm to inch\n",
    "scale = 2\n",
    "fs = [75*mm*scale, 35*mm*scale]\n",
    "plt.figure(figsize=fs, dpi=100)\n",
    "n_fields = len(paper_count)\n",
    "plt.bar(np.arange(n_fields), paper_count, width=0.6)\n",
    "ax = plt.gca()\n",
    "ax.set_yscale('log')\n",
    "plt.ylabel(\"paper count\")\n",
    "plt.xlabel(\"research field (ordered by paper count)\")\n",
    "\n",
    "\n",
    "ann = ax.annotate(\"control theory\",\n",
    "                  xy=(idx, 5), xycoords='data',\n",
    "                  xytext=(0.5, 0.8), textcoords='axes fraction',\n",
    "                  size=14, va=\"center\", ha=\"center\",\n",
    "                  bbox=dict(boxstyle=\"Square\", fc=\"w\"),\n",
    "                  arrowprops=dict(arrowstyle=\"-|>\",\n",
    "                                  connectionstyle=\"arc3,rad=0.0\",\n",
    "                                  relpos=(0.5, 0.),\n",
    "                                  fc=\"w\"),\n",
    "                  )\n",
    "\n",
    "\n",
    "plt.show()"
   ]
  },
  {
   "cell_type": "markdown",
   "metadata": {},
   "source": [
    "---\n",
    "\n",
    "**Claim:**  The highest ranked research fields (w.r.t. to the number of associated papers are \"Science\" (R11, 2891 papers), \"Ecology\"8 (R50, 966 papers), \"Information science\" (R278, 307 papers) and \"Artificial\n",
    "Intelligence\" (R133, 301 papers).\n"
   ]
  },
  {
   "cell_type": "code",
   "execution_count": 17,
   "metadata": {},
   "outputs": [
    {
     "data": {
      "text/html": [
       "<div>\n",
       "<style scoped>\n",
       "    .dataframe tbody tr th:only-of-type {\n",
       "        vertical-align: middle;\n",
       "    }\n",
       "\n",
       "    .dataframe tbody tr th {\n",
       "        vertical-align: top;\n",
       "    }\n",
       "\n",
       "    .dataframe thead th {\n",
       "        text-align: right;\n",
       "    }\n",
       "</style>\n",
       "<table border=\"1\" class=\"dataframe\">\n",
       "  <thead>\n",
       "    <tr style=\"text-align: right;\">\n",
       "      <th></th>\n",
       "      <th>field</th>\n",
       "      <th>fieldLabel</th>\n",
       "      <th>paperCount</th>\n",
       "    </tr>\n",
       "  </thead>\n",
       "  <tbody>\n",
       "    <tr>\n",
       "      <th>0</th>\n",
       "      <td>http://orkg.org/orkg/resource/R11</td>\n",
       "      <td>Science</td>\n",
       "      <td>2891</td>\n",
       "    </tr>\n",
       "    <tr>\n",
       "      <th>1</th>\n",
       "      <td>http://orkg.org/orkg/resource/R50</td>\n",
       "      <td>Motor Control</td>\n",
       "      <td>966</td>\n",
       "    </tr>\n",
       "    <tr>\n",
       "      <th>2</th>\n",
       "      <td>http://orkg.org/orkg/resource/R278</td>\n",
       "      <td>Information Science</td>\n",
       "      <td>307</td>\n",
       "    </tr>\n",
       "    <tr>\n",
       "      <th>3</th>\n",
       "      <td>http://orkg.org/orkg/resource/R133</td>\n",
       "      <td>Artificial Intelligence</td>\n",
       "      <td>301</td>\n",
       "    </tr>\n",
       "    <tr>\n",
       "      <th>4</th>\n",
       "      <td>http://orkg.org/orkg/resource/R69</td>\n",
       "      <td>Toxicology</td>\n",
       "      <td>295</td>\n",
       "    </tr>\n",
       "  </tbody>\n",
       "</table>\n",
       "</div>"
      ],
      "text/plain": [
       "                                field               fieldLabel paperCount\n",
       "0   http://orkg.org/orkg/resource/R11                  Science       2891\n",
       "1   http://orkg.org/orkg/resource/R50            Motor Control        966\n",
       "2  http://orkg.org/orkg/resource/R278      Information Science        307\n",
       "3  http://orkg.org/orkg/resource/R133  Artificial Intelligence        301\n",
       "4   http://orkg.org/orkg/resource/R69               Toxicology        295"
      ]
     },
     "execution_count": 17,
     "metadata": {},
     "output_type": "execute_result"
    }
   ],
   "source": [
    "df[:5]"
   ]
  },
  {
   "cell_type": "markdown",
   "metadata": {},
   "source": [
    "**Note:** 8 Interestingly, the label for the second Research Field-instance in this list is \"Motor control\" and it has \"Neurons and Cognition\" as asserted synonym, which both seem to be wrong, at least according to titles of the associated papers, e. g. “Incorporation of an invasive plant into a native insect herbivore food web”. The label \"Ecology\" is used by the author due to the lack of a more specific one."
   ]
  },
  {
   "cell_type": "markdown",
   "metadata": {},
   "source": [
    "---\n",
    "\n",
    "**Claim:** About 70% of `Research Problem` resources are related to only one paper.\n",
    "\n"
   ]
  },
  {
   "cell_type": "code",
   "execution_count": 18,
   "metadata": {},
   "outputs": [],
   "source": [
    "qs = prefixes + \"\"\"\n",
    "SELECT ?researchproblem ?researchproblemLabel (COUNT(?paper) AS ?paperCount)\n",
    "WHERE {\n",
    "  ?paper a orkgc:Paper. # ... is a paper\n",
    "  ?paper orkgp:P31 ?contribution.\n",
    "  ?contribution orkgp:P32 ?researchproblem.\n",
    "  ?researchproblem rdfs:label ?researchproblemLabel.\n",
    "\n",
    "}\n",
    "GROUP BY ?researchproblem ?researchproblemLabel\n",
    "ORDER BY DESC(?paperCount)\n",
    "LIMIT 10000\n",
    "\"\"\"\n",
    "sparql.setQuery(qs)\n",
    "ans = sparql.query().convert()\n",
    "q = ans[\"results\"][\"bindings\"]\n",
    "\n",
    "flat_result_list = [{k: v[\"value\"] for k, v in row.items()} for row in q]"
   ]
  },
  {
   "cell_type": "code",
   "execution_count": 19,
   "metadata": {},
   "outputs": [
    {
     "data": {
      "text/plain": [
       "info(paper_count) := \"<class 'numpy.ndarray'> with shape: (2025,)\""
      ]
     },
     "metadata": {},
     "output_type": "display_data"
    },
    {
     "data": {
      "text/plain": [
       "---"
      ]
     },
     "metadata": {},
     "output_type": "display_data"
    }
   ],
   "source": [
    "df = pd.DataFrame(flat_result_list)\n",
    "paper_count = (df[\"paperCount\"]).astype(int).to_numpy() ##:i"
   ]
  },
  {
   "cell_type": "code",
   "execution_count": 20,
   "metadata": {},
   "outputs": [
    {
     "data": {
      "image/png": "[encoded data removed]",
      "text/plain": [
       "<Figure size 590.551x275.591 with 1 Axes>"
      ]
     },
     "metadata": {},
     "output_type": "display_data"
    }
   ],
   "source": [
    "plt.figure(figsize=fs, dpi=100)\n",
    "n_fields = len(paper_count)\n",
    "plt.bar(np.arange(n_fields), paper_count, width=0.6)\n",
    "ax = plt.gca()\n",
    "ax.set_yscale('log')\n",
    "plt.ylabel(\"paper count\")\n",
    "plt.xlabel(\"research problems (ordered by associated paper count)\")\n",
    "\n",
    "plt.show()"
   ]
  },
  {
   "cell_type": "markdown",
   "metadata": {},
   "source": [
    "---\n",
    "\n",
    "**Claim:** The median of *property-reuse* is less then 0.1%.\n",
    "\n",
    "\n"
   ]
  },
  {
   "cell_type": "code",
   "execution_count": 21,
   "metadata": {},
   "outputs": [],
   "source": [
    "qs = prefixes + \"\"\"\n",
    "# count papers whose contributions are associated with the same property\n",
    "SELECT ?prop ?propLabel (COUNT(DISTINCT ?paper) AS ?paperCount)\n",
    "WHERE {\n",
    "  ?paper a orkgc:Paper. # ... is a paper\n",
    "  ?paper orkgp:P31 ?contribution.\n",
    "  ?contribution ?prop ?object. # contribution has any property\n",
    "  ?prop rdfs:label ?propLabel.\n",
    "\n",
    "}\n",
    "GROUP BY ?prop ?propLabel\n",
    "ORDER BY DESC(?paperCount)\n",
    "LIMIT 10000\n",
    "\"\"\"\n",
    "sparql.setQuery(qs)\n",
    "ans = sparql.query().convert()\n",
    "q = ans[\"results\"][\"bindings\"]\n",
    "\n",
    "flat_result_list = [{k: v[\"value\"] for k, v in row.items()} for row in q]"
   ]
  },
  {
   "cell_type": "code",
   "execution_count": 22,
   "metadata": {},
   "outputs": [
    {
     "data": {
      "text/plain": [
       "info(paper_count) := \"<class 'numpy.ndarray'> with shape: (3203,)\""
      ]
     },
     "metadata": {},
     "output_type": "display_data"
    },
    {
     "data": {
      "text/plain": [
       "---"
      ]
     },
     "metadata": {},
     "output_type": "display_data"
    }
   ],
   "source": [
    "df = pd.DataFrame(flat_result_list)\n",
    "paper_count = (df[\"paperCount\"]).astype(int).to_numpy() ##:i\n",
    "paper_percentage = paper_count/np.max(paper_count) *100\n",
    "med = np.median(paper_percentage)"
   ]
  },
  {
   "cell_type": "code",
   "execution_count": 23,
   "metadata": {},
   "outputs": [
    {
     "data": {
      "image/png": "[encoded data removed]",
      "text/plain": [
       "<Figure size 590.551x275.591 with 1 Axes>"
      ]
     },
     "metadata": {},
     "output_type": "display_data"
    }
   ],
   "source": [
    "plt.figure(figsize=fs, dpi=100)\n",
    "n_fields = len(paper_percentage)\n",
    "plt.bar([0], [100], width=5) # ensure that the first bar is visible\n",
    "plt.bar(np.arange(n_fields), paper_percentage, width=0.6, color=\"#1f77b4\")\n",
    "\n",
    "plt.plot([0, n_fields], [med, med], \"--\", label=f\"median: {med:04.3f}%\", color=\"#ff7f0e\")\n",
    "plt.legend(loc=\"upper right\")\n",
    "\n",
    "ax = plt.gca()\n",
    "ax.set_yscale('log')\n",
    "plt.ylabel(\"paper percentage\")\n",
    "plt.xlabel(\"property (ordered by associated paper count)\")\n",
    "\n",
    "plt.show()"
   ]
  },
  {
   "cell_type": "markdown",
   "metadata": {},
   "source": [
    "---\n",
    "\n",
    "**Claim:** The property `Has example` (`P35214`) has semantically dubious values of string literals.\n",
    "\n",
    "\n"
   ]
  },
  {
   "cell_type": "code",
   "execution_count": 24,
   "metadata": {},
   "outputs": [],
   "source": [
    "qs = prefixes + \"\"\"\n",
    "SELECT ?paper ?prop ?example\n",
    "WHERE {\n",
    "  ?paper a orkgc:Paper. # ... is a paper\n",
    "  ?paper orkgp:P30 orkgr:R109.  # ... from research field control theory\n",
    "  ?paper orkgp:P31 ?contribution.\n",
    "  \n",
    "  VALUES ?prop {orkgp:P35214}.\n",
    "  ?contribution ?prop ?example. # ?contribution <Has example> ?example\n",
    "  \n",
    "  MINUS { ?paper rdf:type orkgc:PaperDeleted . }\n",
    "}\n",
    "\n",
    "\"\"\"\n",
    "sparql.setQuery(qs)\n",
    "ans = sparql.query().convert()\n",
    "q = ans[\"results\"][\"bindings\"]\n",
    "\n",
    "flat_result_list = [{k: v[\"value\"] for k, v in row.items()} for row in q]"
   ]
  },
  {
   "cell_type": "code",
   "execution_count": 25,
   "metadata": {},
   "outputs": [
    {
     "data": {
      "text/html": [
       "<div>\n",
       "<style scoped>\n",
       "    .dataframe tbody tr th:only-of-type {\n",
       "        vertical-align: middle;\n",
       "    }\n",
       "\n",
       "    .dataframe tbody tr th {\n",
       "        vertical-align: top;\n",
       "    }\n",
       "\n",
       "    .dataframe thead th {\n",
       "        text-align: right;\n",
       "    }\n",
       "</style>\n",
       "<table border=\"1\" class=\"dataframe\">\n",
       "  <thead>\n",
       "    <tr style=\"text-align: right;\">\n",
       "      <th></th>\n",
       "      <th>paper</th>\n",
       "      <th>prop</th>\n",
       "      <th>example</th>\n",
       "    </tr>\n",
       "  </thead>\n",
       "  <tbody>\n",
       "    <tr>\n",
       "      <th>0</th>\n",
       "      <td>http://orkg.org/orkg/resource/R146974</td>\n",
       "      <td>http://orkg.org/orkg/predicate/P35214</td>\n",
       "      <td>yes - quadcoptor</td>\n",
       "    </tr>\n",
       "    <tr>\n",
       "      <th>1</th>\n",
       "      <td>http://orkg.org/orkg/resource/R146978</td>\n",
       "      <td>http://orkg.org/orkg/predicate/P35214</td>\n",
       "      <td>yes - four tank system</td>\n",
       "    </tr>\n",
       "  </tbody>\n",
       "</table>\n",
       "</div>"
      ],
      "text/plain": [
       "df :=                                    paper  \\\n",
       "0  http://orkg.org/orkg/resource/R146974   \n",
       "1  http://orkg.org/orkg/resource/R146978   \n",
       "\n",
       "                                    prop                 example  \n",
       "0  http://orkg.org/orkg/predicate/P35214        yes - quadcoptor  \n",
       "1  http://orkg.org/orkg/predicate/P35214  yes - four tank system  "
      ]
     },
     "metadata": {},
     "output_type": "display_data"
    },
    {
     "data": {
      "text/plain": [
       "---"
      ]
     },
     "metadata": {},
     "output_type": "display_data"
    }
   ],
   "source": [
    "df = pd.DataFrame(flat_result_list) ##:"
   ]
  },
  {
   "cell_type": "markdown",
   "metadata": {},
   "source": [
    "---\n",
    "\n",
    "**Claim:** There are five `orkgp:`-properties with the label \"description\" (ignoring case).\n"
   ]
  },
  {
   "cell_type": "code",
   "execution_count": 26,
   "metadata": {},
   "outputs": [],
   "source": [
    "qs = prefixes + \"\"\"\n",
    "SELECT DISTINCT ?prop ?propLabel where\n",
    "  {\n",
    "    # Values ?prop {orkgp:P12}.\n",
    "    ?prop a orkgc:Predicate.\n",
    "    \n",
    "    # VALUES ?prop {orkgp:description}\n",
    "    ?prop rdfs:label ?propLabel.\n",
    "    {\n",
    "      ?prop rdfs:label \"description\"^^xsd:string.\n",
    "    }\n",
    "    UNION\n",
    "    {\n",
    "      ?prop rdfs:label \"Description\"^^xsd:string.\n",
    "    }\n",
    "}\n",
    "\n",
    "\"\"\"\n",
    "sparql.setQuery(qs)\n",
    "ans = sparql.query().convert()\n",
    "q = ans[\"results\"][\"bindings\"]\n",
    "\n",
    "flat_result_list = [{k: v[\"value\"] for k, v in row.items()} for row in q]"
   ]
  },
  {
   "cell_type": "code",
   "execution_count": 27,
   "metadata": {},
   "outputs": [
    {
     "data": {
      "text/html": [
       "<div>\n",
       "<style scoped>\n",
       "    .dataframe tbody tr th:only-of-type {\n",
       "        vertical-align: middle;\n",
       "    }\n",
       "\n",
       "    .dataframe tbody tr th {\n",
       "        vertical-align: top;\n",
       "    }\n",
       "\n",
       "    .dataframe thead th {\n",
       "        text-align: right;\n",
       "    }\n",
       "</style>\n",
       "<table border=\"1\" class=\"dataframe\">\n",
       "  <thead>\n",
       "    <tr style=\"text-align: right;\">\n",
       "      <th></th>\n",
       "      <th>prop</th>\n",
       "      <th>propLabel</th>\n",
       "    </tr>\n",
       "  </thead>\n",
       "  <tbody>\n",
       "    <tr>\n",
       "      <th>0</th>\n",
       "      <td>http://orkg.org/orkg/predicate/P14</td>\n",
       "      <td>description</td>\n",
       "    </tr>\n",
       "    <tr>\n",
       "      <th>1</th>\n",
       "      <td>http://orkg.org/orkg/predicate/description</td>\n",
       "      <td>description</td>\n",
       "    </tr>\n",
       "    <tr>\n",
       "      <th>2</th>\n",
       "      <td>http://orkg.org/orkg/predicate/P7037</td>\n",
       "      <td>Description</td>\n",
       "    </tr>\n",
       "    <tr>\n",
       "      <th>3</th>\n",
       "      <td>http://orkg.org/orkg/predicate/P7214</td>\n",
       "      <td>Description</td>\n",
       "    </tr>\n",
       "    <tr>\n",
       "      <th>4</th>\n",
       "      <td>http://orkg.org/orkg/predicate/P7224</td>\n",
       "      <td>Description</td>\n",
       "    </tr>\n",
       "  </tbody>\n",
       "</table>\n",
       "</div>"
      ],
      "text/plain": [
       "df :=                                          prop    propLabel\n",
       "0          http://orkg.org/orkg/predicate/P14  description\n",
       "1  http://orkg.org/orkg/predicate/description  description\n",
       "2        http://orkg.org/orkg/predicate/P7037  Description\n",
       "3        http://orkg.org/orkg/predicate/P7214  Description\n",
       "4        http://orkg.org/orkg/predicate/P7224  Description"
      ]
     },
     "metadata": {},
     "output_type": "display_data"
    },
    {
     "data": {
      "text/plain": [
       "---"
      ]
     },
     "metadata": {},
     "output_type": "display_data"
    }
   ],
   "source": [
    "df = pd.DataFrame(flat_result_list) ##:"
   ]
  },
  {
   "cell_type": "markdown",
   "metadata": {},
   "source": [
    "---\n",
    "\n",
    "**Claim:** There are over 100 `Paper`-entities which have the same title.\n"
   ]
  },
  {
   "cell_type": "code",
   "execution_count": 28,
   "metadata": {},
   "outputs": [
    {
     "data": {
      "text/plain": [
       "info(df) := \"<class 'pandas.core.frame.DataFrame'> with shape: (7808, 3)\""
      ]
     },
     "metadata": {},
     "output_type": "display_data"
    },
    {
     "data": {
      "text/plain": [
       "---"
      ]
     },
     "metadata": {},
     "output_type": "display_data"
    }
   ],
   "source": [
    "qs = prefixes + \"\"\"\n",
    "PREFIX orkgr: <http://orkg.org/orkg/resource/>\n",
    "PREFIX orkgc: <http://orkg.org/orkg/class/>\n",
    "PREFIX orkgp: <http://orkg.org/orkg/predicate/>\n",
    "PREFIX rdfs: <http://www.w3.org/2000/01/rdf-schema#>\n",
    "PREFIX xsd: <http://www.w3.org/2001/XMLSchema#>\n",
    "PREFIX rdf: <http://www.w3.org/1999/02/22-rdf-syntax-ns#>\n",
    "\n",
    "SELECT ?o1Label (GROUP_CONCAT(?o1, \" \") AS ?o1Group) (COUNT(?o1Label) AS ?o1LabelCount)\n",
    "WHERE {\n",
    "  ?o1 a orkgc:Paper.\n",
    "  ?o1 rdfs:label ?o1Label.\n",
    "  \n",
    "  FILTER (strlen(?o1Label) > 1).\n",
    "}\n",
    "\n",
    "GROUP BY ?o1Label\n",
    "ORDER BY DESC(?o1LabelCount)\n",
    "\n",
    "\"\"\"\n",
    "sparql.setQuery(qs)\n",
    "ans = sparql.query().convert()\n",
    "q = ans[\"results\"][\"bindings\"]\n",
    "\n",
    "flat_result_list = [{k: v[\"value\"] for k, v in row.items()} for row in q]\n",
    "\n",
    "df = pd.DataFrame(flat_result_list) ##:i"
   ]
  },
  {
   "cell_type": "code",
   "execution_count": 29,
   "metadata": {},
   "outputs": [
    {
     "data": {
      "text/html": [
       "<table border=\"1\" class=\"dataframe\">\n",
       "  <thead>\n",
       "    <tr style=\"text-align: right;\">\n",
       "      <th></th>\n",
       "      <th style=\"min-width: 40em;\">o1Label</th>\n",
       "      <th style=\"min-width: 10em;\">o1Group</th>\n",
       "      <th style=\"min-width: 10em;\">o1LabelCount</th>\n",
       "    </tr>\n",
       "  </thead>\n",
       "  <tbody>\n",
       "    <tr>\n",
       "      <th>0</th>\n",
       "      <td>Governing nonprofit platform ecosystems – an information platform for refugees</td>\n",
       "      <td>http://orkg.org/orkg/resource/R9280 http://orkg.org/orkg/resource/R9282 http://orkg.org/orkg/resource/R9283 http://orkg.org/orkg/resource/R9284 http://orkg.org/orkg/resource/R9285 http://orkg.org/orkg/resource/R9286 http://orkg.org/orkg/resource/R9287 http://orkg.org/orkg/resource/R9288 http://orkg.org/orkg/resource/R9289 http://orkg.org/orkg/resource/R9290 http://orkg.org/orkg/resource/R9291 http://orkg.org/orkg/resource/R9292 http://orkg.org/orkg/resource/R9293 http://orkg.org/orkg/resource/R9294</td>\n",
       "      <td>14</td>\n",
       "    </tr>\n",
       "    <tr>\n",
       "      <th>1</th>\n",
       "      <td>Solution-processed high-performance p-channel copper tin sulfide thin-film transistors</td>\n",
       "      <td>http://orkg.org/orkg/resource/R145533 http://orkg.org/orkg/resource/R145535 http://orkg.org/orkg/resource/R145536 http://orkg.org/orkg/resource/R145537 http://orkg.org/orkg/resource/R145549</td>\n",
       "      <td>5</td>\n",
       "    </tr>\n",
       "    <tr>\n",
       "      <th>2</th>\n",
       "      <td>Two New Phytoecdysteroids From Sphenocentrum jollyanum Pierre Root</td>\n",
       "      <td>http://orkg.org/orkg/resource/R77208 http://orkg.org/orkg/resource/R78075 http://orkg.org/orkg/resource/R78077 http://orkg.org/orkg/resource/R78084</td>\n",
       "      <td>4</td>\n",
       "    </tr>\n",
       "    <tr>\n",
       "      <th>3</th>\n",
       "      <td>Present-Day Atmospheric Simulations Using GISS ModelE: Comparison to In Situ, Satellite, and Reanalysis Data</td>\n",
       "      <td>http://orkg.org/orkg/resource/R23338 http://orkg.org/orkg/resource/R23353 http://orkg.org/orkg/resource/R23368 http://orkg.org/orkg/resource/R23383</td>\n",
       "      <td>4</td>\n",
       "    </tr>\n",
       "    <tr>\n",
       "      <th>4</th>\n",
       "      <td>Model and heuristics for the Assembly Line Worker Integration and Balancing Problem</td>\n",
       "      <td>http://orkg.org/orkg/resource/R12182 http://orkg.org/orkg/resource/R12183 http://orkg.org/orkg/resource/R12184 http://orkg.org/orkg/resource/R12185</td>\n",
       "      <td>4</td>\n",
       "    </tr>\n",
       "    <tr>\n",
       "      <th>5</th>\n",
       "      <td>BERT: Pre-training of Deep Bidirectional Transformers for Language Understanding</td>\n",
       "      <td>http://orkg.org/orkg/resource/R12208 http://orkg.org/orkg/resource/R12209 http://orkg.org/orkg/resource/R12210 http://orkg.org/orkg/resource/R12211</td>\n",
       "      <td>4</td>\n",
       "    </tr>\n",
       "    <tr>\n",
       "      <th>6</th>\n",
       "      <td>A Graph Based Tool for Modelling Planning Processes in Building Engineering</td>\n",
       "      <td>http://orkg.org/orkg/resource/R4693 http://orkg.org/orkg/resource/R4717 http://orkg.org/orkg/resource/R4735 http://orkg.org/orkg/resource/R5138</td>\n",
       "      <td>4</td>\n",
       "    </tr>\n",
       "    <tr>\n",
       "      <th>7</th>\n",
       "      <td>Bibliographic ontology specification</td>\n",
       "      <td>http://orkg.org/orkg/resource/R8335 http://orkg.org/orkg/resource/R9527 http://orkg.org/orkg/resource/R9560</td>\n",
       "      <td>3</td>\n",
       "    </tr>\n",
       "    <tr>\n",
       "      <th>8</th>\n",
       "      <td>SMDM: enhancing enterprise-wide master data management using semantic web technologies</td>\n",
       "      <td>http://orkg.org/orkg/resource/R38016 http://orkg.org/orkg/resource/R8689 http://orkg.org/orkg/resource/R8707</td>\n",
       "      <td>3</td>\n",
       "    </tr>\n",
       "    <tr>\n",
       "      <th>9</th>\n",
       "      <td>Optimization of Pulsed Electric Field Treatment for the Extraction of Bioactive Compounds from Blackcurrant</td>\n",
       "      <td>http://orkg.org/orkg/resource/R75010 http://orkg.org/orkg/resource/R75365 http://orkg.org/orkg/resource/R75366</td>\n",
       "      <td>3</td>\n",
       "    </tr>\n",
       "  </tbody>\n",
       "</table>"
      ],
      "text/plain": [
       "<IPython.core.display.HTML object>"
      ]
     },
     "metadata": {},
     "output_type": "display_data"
    }
   ],
   "source": [
    "display(HTML(df[:10].to_html(col_space=[\"40em\", \"10em\", \"10em\"])))"
   ]
  },
  {
   "cell_type": "code",
   "execution_count": 30,
   "metadata": {},
   "outputs": [
    {
     "data": {
      "text/plain": [
       "121"
      ]
     },
     "execution_count": 30,
     "metadata": {},
     "output_type": "execute_result"
    }
   ],
   "source": [
    "# number of papers which are probably duplicated (exact same title)\n",
    "(df[\"o1LabelCount\"].astype(int) > 1).sum()"
   ]
  },
  {
   "cell_type": "markdown",
   "metadata": {},
   "source": [
    "---\n",
    "\n",
    "**Claim:** There are over 1000 unused properties, i.e. `Predicates`-entities which are never used in the middle position of a triple."
   ]
  },
  {
   "cell_type": "code",
   "execution_count": 31,
   "metadata": {},
   "outputs": [],
   "source": [
    "qs = prefixes + \"\"\"\n",
    "PREFIX orkgr: <http://orkg.org/orkg/resource/>\n",
    "PREFIX orkgc: <http://orkg.org/orkg/class/>\n",
    "PREFIX orkgp: <http://orkg.org/orkg/predicate/>\n",
    "PREFIX rdfs: <http://www.w3.org/2000/01/rdf-schema#>\n",
    "PREFIX xsd: <http://www.w3.org/2001/XMLSchema#>\n",
    "PREFIX rdf: <http://www.w3.org/1999/02/22-rdf-syntax-ns#>\n",
    "\n",
    "SELECT DISTINCT  ?prop ?propType ?propLabel where\n",
    "  {\n",
    "    # Values ?prop {orkgp:P12}.\n",
    "    ?prop a orkgc:Predicate.\n",
    "          ?prop rdfs:label ?propLabel.\n",
    "\n",
    "    Minus {\n",
    "      ?o1 ?prop ?o2.\n",
    "      }\n",
    "\n",
    "}\n",
    "\n",
    "\"\"\"\n",
    "sparql.setQuery(qs)\n",
    "ans = sparql.query().convert()\n",
    "q = ans[\"results\"][\"bindings\"]\n",
    "\n",
    "flat_result_list = [{k: v[\"value\"] for k, v in row.items()} for row in q]"
   ]
  },
  {
   "cell_type": "code",
   "execution_count": 32,
   "metadata": {},
   "outputs": [
    {
     "data": {
      "text/plain": [
       "info(df) := \"<class 'pandas.core.frame.DataFrame'> with shape: (1088, 2)\""
      ]
     },
     "metadata": {},
     "output_type": "display_data"
    },
    {
     "data": {
      "text/plain": [
       "---"
      ]
     },
     "metadata": {},
     "output_type": "display_data"
    }
   ],
   "source": [
    "df = pd.DataFrame(flat_result_list) ##:i"
   ]
  },
  {
   "cell_type": "markdown",
   "metadata": {},
   "source": [
    "---\n",
    "\n",
    "**Claim:** There are over 150 papers without a single author."
   ]
  },
  {
   "cell_type": "code",
   "execution_count": 33,
   "metadata": {},
   "outputs": [],
   "source": [
    "qs = prefixes + \"\"\"\n",
    "PREFIX orkgr: <http://orkg.org/orkg/resource/>\n",
    "PREFIX orkgc: <http://orkg.org/orkg/class/>\n",
    "PREFIX orkgp: <http://orkg.org/orkg/predicate/>\n",
    "PREFIX rdfs: <http://www.w3.org/2000/01/rdf-schema#>\n",
    "PREFIX xsd: <http://www.w3.org/2001/XMLSchema#>\n",
    "PREFIX rdf: <http://www.w3.org/1999/02/22-rdf-syntax-ns#>\n",
    "\n",
    "SELECT ?paper ?paperLabel ?author ?authorLabel\n",
    "WHERE {\n",
    "  ?paper a orkgc:Paper. # ... is a paper\n",
    "  ?paper orkgp:P30 orkgr:R11.\n",
    "  ?paper rdfs:label ?paperLabel.\n",
    "\n",
    "  MINUS {?paper orkgp:P27 ?author.}\n",
    "}\n",
    "LIMIT 1000\n",
    "\n",
    "\"\"\"\n",
    "sparql.setQuery(qs)\n",
    "ans = sparql.query().convert()\n",
    "q = ans[\"results\"][\"bindings\"]\n",
    "\n",
    "flat_result_list = [{k: v[\"value\"] for k, v in row.items()} for row in q]"
   ]
  },
  {
   "cell_type": "code",
   "execution_count": 34,
   "metadata": {},
   "outputs": [
    {
     "data": {
      "text/plain": [
       "info(df) := \"<class 'pandas.core.frame.DataFrame'> with shape: (162, 2)\""
      ]
     },
     "metadata": {},
     "output_type": "display_data"
    },
    {
     "data": {
      "text/plain": [
       "---"
      ]
     },
     "metadata": {},
     "output_type": "display_data"
    }
   ],
   "source": [
    "df = pd.DataFrame(flat_result_list) ##:i"
   ]
  }
 ],
 "metadata": {
  "kernelspec": {
   "display_name": "Python 3",
   "language": "python",
   "name": "python3"
  },
  "language_info": {
   "codemirror_mode": {
    "name": "ipython",
    "version": 3
   },
   "file_extension": ".py",
   "mimetype": "text/x-python",
   "name": "python",
   "nbconvert_exporter": "python",
   "pygments_lexer": "ipython3",
   "version": "3.8.6"
  }
 },
 "nbformat": 4,
 "nbformat_minor": 4
}
