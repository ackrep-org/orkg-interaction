{
 "cells": [
  {
   "cell_type": "code",
   "execution_count": 1,
   "metadata": {},
   "outputs": [
    {
     "name": "stdout",
     "output_type": "stream",
     "text": [
      "Tue Apr 12 10:17:23 2022\n"
     ]
    }
   ],
   "source": [
    "import time\n",
    "print(time.ctime())\n",
    "%load_ext ipydex.displaytools"
   ]
  },
  {
   "cell_type": "code",
   "execution_count": 2,
   "metadata": {},
   "outputs": [],
   "source": [
    "import numpy as np\n",
    "import pandas as pd\n",
    "from matplotlib import pyplot as plt"
   ]
  },
  {
   "cell_type": "code",
   "execution_count": 3,
   "metadata": {},
   "outputs": [],
   "source": [
    "plt.rcParams['text.usetex'] = True\n",
    "plt.rcParams['font.size'] = 13\n",
    "plt.rcParams['axes.labelsize'] = 14"
   ]
  },
  {
   "cell_type": "code",
   "execution_count": 4,
   "metadata": {},
   "outputs": [],
   "source": [
    "fname = \"researchfield_ordered_by_paper.csv\""
   ]
  },
  {
   "cell_type": "code",
   "execution_count": 5,
   "metadata": {},
   "outputs": [
    {
     "data": {
      "text/html": [
       "<div>\n",
       "<style scoped>\n",
       "    .dataframe tbody tr th:only-of-type {\n",
       "        vertical-align: middle;\n",
       "    }\n",
       "\n",
       "    .dataframe tbody tr th {\n",
       "        vertical-align: top;\n",
       "    }\n",
       "\n",
       "    .dataframe thead th {\n",
       "        text-align: right;\n",
       "    }\n",
       "</style>\n",
       "<table border=\"1\" class=\"dataframe\">\n",
       "  <thead>\n",
       "    <tr style=\"text-align: right;\">\n",
       "      <th></th>\n",
       "      <th>field</th>\n",
       "      <th>fieldLabel</th>\n",
       "      <th>paperCount</th>\n",
       "    </tr>\n",
       "  </thead>\n",
       "  <tbody>\n",
       "    <tr>\n",
       "      <th>0</th>\n",
       "      <td>http://orkg.org/orkg/resource/R11</td>\n",
       "      <td>Science</td>\n",
       "      <td>2891</td>\n",
       "    </tr>\n",
       "    <tr>\n",
       "      <th>1</th>\n",
       "      <td>http://orkg.org/orkg/resource/R50</td>\n",
       "      <td>Motor Control</td>\n",
       "      <td>966</td>\n",
       "    </tr>\n",
       "    <tr>\n",
       "      <th>2</th>\n",
       "      <td>http://orkg.org/orkg/resource/R278</td>\n",
       "      <td>Information Science</td>\n",
       "      <td>306</td>\n",
       "    </tr>\n",
       "    <tr>\n",
       "      <th>3</th>\n",
       "      <td>http://orkg.org/orkg/resource/R133</td>\n",
       "      <td>Artificial Intelligence</td>\n",
       "      <td>301</td>\n",
       "    </tr>\n",
       "    <tr>\n",
       "      <th>4</th>\n",
       "      <td>http://orkg.org/orkg/resource/R69</td>\n",
       "      <td>Toxicology</td>\n",
       "      <td>295</td>\n",
       "    </tr>\n",
       "    <tr>\n",
       "      <th>...</th>\n",
       "      <td>...</td>\n",
       "      <td>...</td>\n",
       "      <td>...</td>\n",
       "    </tr>\n",
       "    <tr>\n",
       "      <th>222</th>\n",
       "      <td>http://orkg.org/orkg/resource/R167</td>\n",
       "      <td>Oceanography and Atmospheric Sciences and Mete...</td>\n",
       "      <td>1</td>\n",
       "    </tr>\n",
       "    <tr>\n",
       "      <th>223</th>\n",
       "      <td>http://orkg.org/orkg/resource/R136113</td>\n",
       "      <td>Education Systems and Educational Institutions</td>\n",
       "      <td>1</td>\n",
       "    </tr>\n",
       "    <tr>\n",
       "      <th>224</th>\n",
       "      <td>http://orkg.org/orkg/resource/R18</td>\n",
       "      <td>Structural Biology</td>\n",
       "      <td>1</td>\n",
       "    </tr>\n",
       "    <tr>\n",
       "      <th>225</th>\n",
       "      <td>http://orkg.org/orkg/resource/R224</td>\n",
       "      <td>Civil and Environmental Engineering</td>\n",
       "      <td>1</td>\n",
       "    </tr>\n",
       "    <tr>\n",
       "      <th>226</th>\n",
       "      <td>http://orkg.org/orkg/resource/R452</td>\n",
       "      <td>Philosophy of Science</td>\n",
       "      <td>1</td>\n",
       "    </tr>\n",
       "  </tbody>\n",
       "</table>\n",
       "<p>227 rows × 3 columns</p>\n",
       "</div>"
      ],
      "text/plain": [
       "data :=                                      field  \\\n",
       "0        http://orkg.org/orkg/resource/R11   \n",
       "1        http://orkg.org/orkg/resource/R50   \n",
       "2       http://orkg.org/orkg/resource/R278   \n",
       "3       http://orkg.org/orkg/resource/R133   \n",
       "4        http://orkg.org/orkg/resource/R69   \n",
       "..                                     ...   \n",
       "222     http://orkg.org/orkg/resource/R167   \n",
       "223  http://orkg.org/orkg/resource/R136113   \n",
       "224      http://orkg.org/orkg/resource/R18   \n",
       "225     http://orkg.org/orkg/resource/R224   \n",
       "226     http://orkg.org/orkg/resource/R452   \n",
       "\n",
       "                                            fieldLabel  paperCount  \n",
       "0                                              Science        2891  \n",
       "1                                        Motor Control         966  \n",
       "2                                  Information Science         306  \n",
       "3                              Artificial Intelligence         301  \n",
       "4                                           Toxicology         295  \n",
       "..                                                 ...         ...  \n",
       "222  Oceanography and Atmospheric Sciences and Mete...           1  \n",
       "223     Education Systems and Educational Institutions           1  \n",
       "224                                 Structural Biology           1  \n",
       "225                Civil and Environmental Engineering           1  \n",
       "226                              Philosophy of Science           1  \n",
       "\n",
       "[227 rows x 3 columns]"
      ]
     },
     "metadata": {},
     "output_type": "display_data"
    },
    {
     "data": {
      "text/plain": [
       "---"
      ]
     },
     "metadata": {},
     "output_type": "display_data"
    },
    {
     "data": {
      "text/plain": [
       "paper_count := \n",
       "array([2891,  966,  306,  301,  295,  238,  203,  161,  108,  100,   96,\n",
       "         95,   89,   89,   83,   69,   67,   64,   63,   56,   53,   53,\n",
       "         52,   51,   50,   48,   45,   45,   41,   37,   33,   30,   28,\n",
       "         27,   27,   27,   26,   25,   23,   23,   21,   20,   18,   18,\n",
       "         17,   17,   16,   16,   15,   15,   15,   15,   14,   14,   13,\n",
       "         13,   13,   11,   11,   11,   11,   11,   10,   10,   10,   10,\n",
       "          9,    9,    9,    9,    8,    8,    8,    8,    8,    8,    8,\n",
       "          7,    7,    7,    7,    7,    7,    7,    7,    7,    6,    6,\n",
       "          5,    5,    5,    5,    5,    5,    5,    5,    4,    4,    4,\n",
       "          4,    4,    4,    4,    4,    4,    4,    4,    4,    4,    4,\n",
       "          4,    4,    3,    3,    3,    3,    3,    3,    3,    3,    3,\n",
       "          3,    3,    3,    3,    3,    3,    3,    3,    3,    3,    3,\n",
       "          2,    2,    2,    2,    2,    2,    2,    2,    2,    2,    2,\n",
       "          2,    2,    2,    2,    2,    2,    2,    2,    2,    2,    2,\n",
       "          2,    2,    2,    2,    1,    1,    1,    1,    1,    1,    1,\n",
       "          1,    1,    1,    1,    1,    1,    1,    1,    1,    1,    1,\n",
       "          1,    1,    1,    1,    1,    1,    1,    1,    1,    1,    1,\n",
       "          1,    1,    1,    1,    1,    1,    1,    1,    1,    1,    1,\n",
       "          1,    1,    1,    1,    1,    1,    1,    1,    1,    1,    1,\n",
       "          1,    1,    1,    1,    1,    1,    1,    1,    1,    1,    1,\n",
       "          1,    1,    1,    1,    1,    1,    1])"
      ]
     },
     "metadata": {},
     "output_type": "display_data"
    },
    {
     "data": {
      "text/plain": [
       "---"
      ]
     },
     "metadata": {},
     "output_type": "display_data"
    }
   ],
   "source": [
    "data = pd.read_csv(f\"data/{fname}\") ##:\n",
    "idx = np.flatnonzero(data[\"fieldLabel\"] == \"Control Theory\")[0]\n",
    "paper_count = (data[\"paperCount\"]).to_numpy() ##:"
   ]
  },
  {
   "cell_type": "code",
   "execution_count": 6,
   "metadata": {},
   "outputs": [
    {
     "data": {
      "image/png": "[encoded data removed]",
      "text/plain": [
       "<Figure size 590.551x275.591 with 1 Axes>"
      ]
     },
     "metadata": {},
     "output_type": "display_data"
    }
   ],
   "source": [
    "mm = 1/25.4 # mm to inch\n",
    "scale = 2\n",
    "fs = [75*mm*scale, 35*mm*scale]\n",
    "plt.figure(figsize=fs, dpi=100)\n",
    "n_fields = len(paper_count)\n",
    "plt.bar(np.arange(n_fields), paper_count, width=0.6)\n",
    "ax = plt.gca()\n",
    "ax.set_yscale('log')\n",
    "plt.ylabel(\"paper count\")\n",
    "plt.xlabel(\"research field (ordered by paper count)\")\n",
    "\n",
    "\n",
    "ann = ax.annotate(\"control theory\",\n",
    "                  xy=(idx, 5), xycoords='data',\n",
    "                  xytext=(0.5, 0.8), textcoords='axes fraction',\n",
    "                  size=14, va=\"center\", ha=\"center\",\n",
    "                  bbox=dict(boxstyle=\"Square\", fc=\"w\"),\n",
    "                  arrowprops=dict(arrowstyle=\"-|>\",\n",
    "                                  connectionstyle=\"arc3,rad=0.0\",\n",
    "                                  relpos=(0.5, 0.),\n",
    "                                  fc=\"w\"),\n",
    "                  )\n",
    "\n",
    "\n",
    "\n",
    "plt.savefig(f\"{fname[:-4]}-hist.pdf\", bbox_inches=\"tight\")\n",
    "plt.show()"
   ]
  },
  {
   "cell_type": "code",
   "execution_count": null,
   "metadata": {},
   "outputs": [],
   "source": []
  },
  {
   "cell_type": "markdown",
   "metadata": {},
   "source": [
    "## Research problem distribution"
   ]
  },
  {
   "cell_type": "code",
   "execution_count": 7,
   "metadata": {},
   "outputs": [],
   "source": [
    "fname = \"researchproblem_ordered_by_paper.csv\"\n",
    "data = pd.read_csv(f\"data/{fname}\")\n",
    "paper_count = (data[\"paperCount\"]).to_numpy() "
   ]
  },
  {
   "cell_type": "code",
   "execution_count": 8,
   "metadata": {},
   "outputs": [
    {
     "data": {
      "image/png": "[encoded data removed]",
      "text/plain": [
       "<Figure size 590.551x275.591 with 1 Axes>"
      ]
     },
     "metadata": {},
     "output_type": "display_data"
    }
   ],
   "source": [
    "plt.figure(figsize=fs, dpi=100)\n",
    "n_fields = len(paper_count)\n",
    "plt.bar(np.arange(n_fields), paper_count, width=0.6)\n",
    "ax = plt.gca()\n",
    "ax.set_yscale('log')\n",
    "plt.ylabel(\"paper count\")\n",
    "plt.xlabel(\"research problems (ordered by associated paper count)\")\n",
    "\n",
    "\n",
    "plt.savefig(f\"{fname[:-4]}-hist.pdf\", bbox_inches=\"tight\")\n",
    "plt.show()"
   ]
  },
  {
   "cell_type": "code",
   "execution_count": 9,
   "metadata": {},
   "outputs": [
    {
     "data": {
      "text/plain": [
       "0.694320987654321"
      ]
     },
     "execution_count": 9,
     "metadata": {},
     "output_type": "execute_result"
    }
   ],
   "source": [
    "np.count_nonzero(paper_count <2)/len(paper_count)"
   ]
  },
  {
   "cell_type": "markdown",
   "metadata": {},
   "source": [
    "## property_usage_ordered_by_paper"
   ]
  },
  {
   "cell_type": "code",
   "execution_count": 10,
   "metadata": {},
   "outputs": [],
   "source": [
    "fname = \"property_usage_ordered_by_paper.csv\"\n",
    "data = pd.read_csv(f\"data/{fname}\")\n",
    "paper_count = (data[\"paperCount\"]).to_numpy() \n",
    "\n",
    "paper_percentage = paper_count/np.max(paper_count) *100\n",
    "med = np.median(paper_percentage)\n",
    "\n",
    "# paper_percentage = paper_percentage[np.r_[np.arange(20), -1]]"
   ]
  },
  {
   "cell_type": "code",
   "execution_count": 11,
   "metadata": {},
   "outputs": [
    {
     "data": {
      "image/png": "[encoded data removed]",
      "text/plain": [
       "<Figure size 590.551x275.591 with 1 Axes>"
      ]
     },
     "metadata": {},
     "output_type": "display_data"
    }
   ],
   "source": [
    "plt.figure(figsize=fs, dpi=100)\n",
    "n_fields = len(paper_percentage)\n",
    "plt.bar([0], [100], width=5) # ensure that the first bar is visible\n",
    "plt.bar(np.arange(n_fields), paper_percentage, width=0.6, color=\"#1f77b4\")\n",
    "\n",
    "plt.plot([0, n_fields], [med, med], \"--\", label=f\"median: {med:04.3f}%\", color=\"#ff7f0e\")\n",
    "plt.legend(loc=\"upper right\")\n",
    "\n",
    "ax = plt.gca()\n",
    "ax.set_yscale('log')\n",
    "plt.ylabel(\"paper percentage\")\n",
    "plt.xlabel(\"property (ordered by associated paper count)\")\n",
    "\n",
    "\n",
    "plt.savefig(f\"{fname[:-4]}-hist.pdf\", bbox_inches=\"tight\")\n",
    "plt.show()"
   ]
  }
 ],
 "metadata": {
  "kernelspec": {
   "display_name": "Python 3",
   "language": "python",
   "name": "python3"
  },
  "language_info": {
   "codemirror_mode": {
    "name": "ipython",
    "version": 3
   },
   "file_extension": ".py",
   "mimetype": "text/x-python",
   "name": "python",
   "nbconvert_exporter": "python",
   "pygments_lexer": "ipython3",
   "version": "3.8.6"
  }
 },
 "nbformat": 4,
 "nbformat_minor": 4
}
