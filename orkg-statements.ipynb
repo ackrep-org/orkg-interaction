{
 "cells": [
  {
   "cell_type": "markdown",
   "metadata": {},
   "source": [
    "This notebook is used to support the ORKG-related statements made in the paper\n",
    "<br><br>\n",
    "<center>\n",
    "\"Examining the ORKG towards Representation of Control Theoretic Knowledge – Preliminary Experiences and Conclusions\"\n",
    "\n",
    "</center>\n",
    "    \n",
    "(currently under review).\n",
    "\n",
    "Note: every SPARQL-Query can also be run via the web interface <https://www.orkg.org/orkg/sparql/>."
   ]
  },
  {
   "cell_type": "code",
   "execution_count": 42,
   "metadata": {},
   "outputs": [
    {
     "name": "stdout",
     "output_type": "stream",
     "text": [
      "Tue Feb 22 14:53:29 2022\n"
     ]
    }
   ],
   "source": [
    "import time\n",
    "print(time.ctime())\n",
    "%load_ext ipydex.displaytools"
   ]
  },
  {
   "cell_type": "code",
   "execution_count": 50,
   "metadata": {},
   "outputs": [],
   "source": [
    "from SPARQLWrapper import SPARQLWrapper, JSON\n",
    "import pandas as pd\n",
    "\n",
    "sparql = SPARQLWrapper(\"https://www.orkg.org/orkg/triplestore/\")\n",
    "sparql.setReturnFormat(JSON)\n",
    "\n",
    "prefixes = \"\"\"\n",
    "PREFIX orkgr: <http://orkg.org/orkg/resource/>\n",
    "PREFIX orkgc: <http://orkg.org/orkg/class/>\n",
    "PREFIX orkgp: <http://orkg.org/orkg/predicate/>\n",
    "PREFIX rdfs: <http://www.w3.org/2000/01/rdf-schema#>\n",
    "PREFIX xsd: <http://www.w3.org/2001/XMLSchema#>\n",
    "PREFIX rdf: <http://www.w3.org/1999/02/22-rdf-syntax-ns#>\n",
    "\n",
    "\"\"\""
   ]
  },
  {
   "cell_type": "markdown",
   "metadata": {},
   "source": [
    "**Claim:**  At the time of writing, the ORKG SPARQL query service lists\n",
    "101218 distinct nodes (excluding literal values) and 4699 properties.\n"
   ]
  },
  {
   "cell_type": "code",
   "execution_count": 45,
   "metadata": {},
   "outputs": [
    {
     "data": {
      "text/plain": [
       "q := [{'count': {'type': 'typed-literal',\n",
       "   'datatype': 'http://www.w3.org/2001/XMLSchema#integer',\n",
       "   'value': '101218'}}]"
      ]
     },
     "metadata": {},
     "output_type": "display_data"
    },
    {
     "data": {
      "text/plain": [
       "---"
      ]
     },
     "metadata": {},
     "output_type": "display_data"
    }
   ],
   "source": [
    "qs = \"\"\"\n",
    "SELECT  (COUNT(distinct ?vertex) AS ?count)\n",
    "WHERE\n",
    "{\n",
    "  {\n",
    "    ?vertex ?p []\n",
    "  }\n",
    "  UNION\n",
    "  {\n",
    "    [] ?p ?vertex\n",
    "    FILTER(!IsLiteral(?vertex))\n",
    "  }\n",
    "}\n",
    "\"\"\"\n",
    "\n",
    "sparql.setQuery(qs)\n",
    "ans = sparql.query().convert()\n",
    "q = ans[\"results\"][\"bindings\"] ##:"
   ]
  },
  {
   "cell_type": "code",
   "execution_count": 44,
   "metadata": {},
   "outputs": [
    {
     "data": {
      "text/plain": [
       "q := [{'count': {'type': 'typed-literal',\n",
       "   'datatype': 'http://www.w3.org/2001/XMLSchema#integer',\n",
       "   'value': '4699'}}]"
      ]
     },
     "metadata": {},
     "output_type": "display_data"
    },
    {
     "data": {
      "text/plain": [
       "---"
      ]
     },
     "metadata": {},
     "output_type": "display_data"
    }
   ],
   "source": [
    "qs = \"\"\"\n",
    "SELECT  (COUNT(distinct ?p) AS ?count)\n",
    "WHERE\n",
    "{\n",
    "  {\n",
    "    ?vertex ?p []\n",
    "  }\n",
    "  UNION\n",
    "  {\n",
    "    [] ?p ?vertex\n",
    "    FILTER(!IsLiteral(?vertex))\n",
    "  }\n",
    "}\n",
    "\"\"\"\n",
    "\n",
    "sparql.setQuery(qs)\n",
    "ans = sparql.query().convert()\n",
    "q = ans[\"results\"][\"bindings\"] ##:"
   ]
  },
  {
   "cell_type": "markdown",
   "metadata": {},
   "source": [
    "---\n",
    "\n",
    "**Claim:**  At the time of writing, the ORKG SPARQL query service lists\n",
    "101218 distinct nodes (excluding literal values) and 4699 properties.\n"
   ]
  },
  {
   "cell_type": "code",
   "execution_count": null,
   "metadata": {},
   "outputs": [],
   "source": [
    "with open(\"dump.nt\") as thefile:\n",
    "    lines = thefile.readlines()\n",
    "    \n",
    "print(len(lines))\n",
    "new_lines = []\n",
    "for l in lines:\n",
    "    if \"<null>\" in l:\n",
    "        continue\n",
    "    new_lines.append(l)"
   ]
  },
  {
   "cell_type": "markdown",
   "metadata": {},
   "source": [
    "---\n",
    "\n",
    "**Claim:** At the beginning of this study (2022-01-15) there are five papers\n",
    "listed under research field Control Theory (R109).\n"
   ]
  },
  {
   "cell_type": "code",
   "execution_count": 60,
   "metadata": {},
   "outputs": [],
   "source": [
    "qs = prefixes + \"\"\"\n",
    "select distinct ?paper ?title where\n",
    "  {?paper orkgp:P30 orkgr:R109;\n",
    "          rdfs:label ?title;\n",
    "          rdf:type ?type.\n",
    "  MINUS { ?paper rdf:type orkgc:PaperDeleted . }\n",
    "  }\n",
    "\"\"\"\n",
    "\n",
    "sparql.setQuery(qs)\n",
    "ans = sparql.query().convert()\n",
    "q = ans[\"results\"][\"bindings\"]"
   ]
  },
  {
   "cell_type": "code",
   "execution_count": 61,
   "metadata": {},
   "outputs": [
    {
     "data": {
      "text/html": [
       "<div>\n",
       "<style scoped>\n",
       "    .dataframe tbody tr th:only-of-type {\n",
       "        vertical-align: middle;\n",
       "    }\n",
       "\n",
       "    .dataframe tbody tr th {\n",
       "        vertical-align: top;\n",
       "    }\n",
       "\n",
       "    .dataframe thead th {\n",
       "        text-align: right;\n",
       "    }\n",
       "</style>\n",
       "<table border=\"1\" class=\"dataframe\">\n",
       "  <thead>\n",
       "    <tr style=\"text-align: right;\">\n",
       "      <th></th>\n",
       "      <th>paper</th>\n",
       "      <th>title</th>\n",
       "    </tr>\n",
       "  </thead>\n",
       "  <tbody>\n",
       "    <tr>\n",
       "      <th>0</th>\n",
       "      <td>http://orkg.org/orkg/resource/R138527</td>\n",
       "      <td>Sensitivity analysis applied to a variational ...</td>\n",
       "    </tr>\n",
       "    <tr>\n",
       "      <th>1</th>\n",
       "      <td>http://orkg.org/orkg/resource/R138532</td>\n",
       "      <td>Incremental projection approach of regularizat...</td>\n",
       "    </tr>\n",
       "    <tr>\n",
       "      <th>2</th>\n",
       "      <td>http://orkg.org/orkg/resource/R146945</td>\n",
       "      <td>Design and In Silico Evaluation of a Closed-Lo...</td>\n",
       "    </tr>\n",
       "    <tr>\n",
       "      <th>3</th>\n",
       "      <td>http://orkg.org/orkg/resource/R146974</td>\n",
       "      <td>Data-Enabled Predictive Control: In the Shallo...</td>\n",
       "    </tr>\n",
       "    <tr>\n",
       "      <th>4</th>\n",
       "      <td>http://orkg.org/orkg/resource/R146978</td>\n",
       "      <td>Data-Driven Model Predictive Control With Stab...</td>\n",
       "    </tr>\n",
       "  </tbody>\n",
       "</table>\n",
       "</div>"
      ],
      "text/plain": [
       "                                   paper  \\\n",
       "0  http://orkg.org/orkg/resource/R138527   \n",
       "1  http://orkg.org/orkg/resource/R138532   \n",
       "2  http://orkg.org/orkg/resource/R146945   \n",
       "3  http://orkg.org/orkg/resource/R146974   \n",
       "4  http://orkg.org/orkg/resource/R146978   \n",
       "\n",
       "                                               title  \n",
       "0  Sensitivity analysis applied to a variational ...  \n",
       "1  Incremental projection approach of regularizat...  \n",
       "2  Design and In Silico Evaluation of a Closed-Lo...  \n",
       "3  Data-Enabled Predictive Control: In the Shallo...  \n",
       "4  Data-Driven Model Predictive Control With Stab...  "
      ]
     },
     "execution_count": 61,
     "metadata": {},
     "output_type": "execute_result"
    }
   ],
   "source": [
    "flat_result_list = [{k: v[\"value\"] for k, v in row.items()} for row in q]\n",
    "pd.DataFrame(flat_result_list)"
   ]
  }
 ],
 "metadata": {
  "kernelspec": {
   "display_name": "Python 3",
   "language": "python",
   "name": "python3"
  },
  "language_info": {
   "codemirror_mode": {
    "name": "ipython",
    "version": 3
   },
   "file_extension": ".py",
   "mimetype": "text/x-python",
   "name": "python",
   "nbconvert_exporter": "python",
   "pygments_lexer": "ipython3",
   "version": "3.8.6"
  }
 },
 "nbformat": 4,
 "nbformat_minor": 4
}
